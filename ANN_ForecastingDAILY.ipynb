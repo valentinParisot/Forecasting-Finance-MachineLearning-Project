{
 "cells": [
  {
   "cell_type": "code",
   "execution_count": 2,
   "metadata": {},
   "outputs": [],
   "source": [
    "import pandas as pd\n",
    "import numpy as np\n",
    "from keras.layers import LSTM\n",
    "\n",
    "%matplotlib inline\n",
    "import matplotlib.pyplot as plt\n",
    "\n",
    "from sklearn.preprocessing import MinMaxScaler\n",
    "from sklearn.metrics import r2_score\n",
    "\n",
    "from tensorflow import keras\n",
    "from keras.models import Sequential\n",
    "from keras.layers import Dense\n",
    "import keras.backend as K\n",
    "from keras.callbacks import EarlyStopping\n",
    "from tensorflow.keras.optimizers import Adam\n",
    "from keras.models import load_model\n",
    "\n",
    "from keras.utils.generic_utils import get_custom_objects\n",
    "from keras.layers.core import Activation\n"
   ]
  },
  {
   "cell_type": "code",
   "execution_count": 3,
   "metadata": {},
   "outputs": [],
   "source": [
    "exchangerate_data = pd.read_csv('LastCHF_USD99-17Daily.csv')\n",
    "exchangerate_data[\"Date\"] = pd.to_datetime(exchangerate_data[\"Date\"])# 1 USD = X CHF\n",
    "ind_exchangerate_data = exchangerate_data.set_index([\"Date\"], drop=True)"
   ]
  },
  {
   "cell_type": "code",
   "execution_count": 4,
   "metadata": {},
   "outputs": [
    {
     "data": {
      "text/html": [
       "<div>\n",
       "<style scoped>\n",
       "    .dataframe tbody tr th:only-of-type {\n",
       "        vertical-align: middle;\n",
       "    }\n",
       "\n",
       "    .dataframe tbody tr th {\n",
       "        vertical-align: top;\n",
       "    }\n",
       "\n",
       "    .dataframe thead th {\n",
       "        text-align: right;\n",
       "    }\n",
       "</style>\n",
       "<table border=\"1\" class=\"dataframe\">\n",
       "  <thead>\n",
       "    <tr style=\"text-align: right;\">\n",
       "      <th></th>\n",
       "      <th>Price</th>\n",
       "      <th>Open</th>\n",
       "      <th>High</th>\n",
       "      <th>Low</th>\n",
       "      <th>Vol.</th>\n",
       "      <th>Change %</th>\n",
       "    </tr>\n",
       "    <tr>\n",
       "      <th>Date</th>\n",
       "      <th></th>\n",
       "      <th></th>\n",
       "      <th></th>\n",
       "      <th></th>\n",
       "      <th></th>\n",
       "      <th></th>\n",
       "    </tr>\n",
       "  </thead>\n",
       "  <tbody>\n",
       "    <tr>\n",
       "      <th>2017-12-01</th>\n",
       "      <td>1.0240</td>\n",
       "      <td>1.0168</td>\n",
       "      <td>1.0273</td>\n",
       "      <td>1.0131</td>\n",
       "      <td>NaN</td>\n",
       "      <td>0.72%</td>\n",
       "    </tr>\n",
       "    <tr>\n",
       "      <th>2017-11-30</th>\n",
       "      <td>1.0167</td>\n",
       "      <td>1.0153</td>\n",
       "      <td>1.0188</td>\n",
       "      <td>1.0118</td>\n",
       "      <td>NaN</td>\n",
       "      <td>0.11%</td>\n",
       "    </tr>\n",
       "    <tr>\n",
       "      <th>2017-11-29</th>\n",
       "      <td>1.0156</td>\n",
       "      <td>1.0160</td>\n",
       "      <td>1.0186</td>\n",
       "      <td>1.0131</td>\n",
       "      <td>NaN</td>\n",
       "      <td>-0.04%</td>\n",
       "    </tr>\n",
       "    <tr>\n",
       "      <th>2017-11-28</th>\n",
       "      <td>1.0160</td>\n",
       "      <td>1.0189</td>\n",
       "      <td>1.0203</td>\n",
       "      <td>1.0149</td>\n",
       "      <td>NaN</td>\n",
       "      <td>-0.27%</td>\n",
       "    </tr>\n",
       "    <tr>\n",
       "      <th>2017-11-27</th>\n",
       "      <td>1.0188</td>\n",
       "      <td>1.0211</td>\n",
       "      <td>1.0229</td>\n",
       "      <td>1.0184</td>\n",
       "      <td>NaN</td>\n",
       "      <td>-0.18%</td>\n",
       "    </tr>\n",
       "  </tbody>\n",
       "</table>\n",
       "</div>"
      ],
      "text/plain": [
       "             Price    Open    High     Low  Vol. Change %\n",
       "Date                                                     \n",
       "2017-12-01  1.0240  1.0168  1.0273  1.0131   NaN    0.72%\n",
       "2017-11-30  1.0167  1.0153  1.0188  1.0118   NaN    0.11%\n",
       "2017-11-29  1.0156  1.0160  1.0186  1.0131   NaN   -0.04%\n",
       "2017-11-28  1.0160  1.0189  1.0203  1.0149   NaN   -0.27%\n",
       "2017-11-27  1.0188  1.0211  1.0229  1.0184   NaN   -0.18%"
      ]
     },
     "execution_count": 4,
     "metadata": {},
     "output_type": "execute_result"
    }
   ],
   "source": [
    "ind_exchangerate_data.head()"
   ]
  },
  {
   "cell_type": "code",
   "execution_count": 5,
   "metadata": {},
   "outputs": [
    {
     "data": {
      "text/html": [
       "<div>\n",
       "<style scoped>\n",
       "    .dataframe tbody tr th:only-of-type {\n",
       "        vertical-align: middle;\n",
       "    }\n",
       "\n",
       "    .dataframe tbody tr th {\n",
       "        vertical-align: top;\n",
       "    }\n",
       "\n",
       "    .dataframe thead th {\n",
       "        text-align: right;\n",
       "    }\n",
       "</style>\n",
       "<table border=\"1\" class=\"dataframe\">\n",
       "  <thead>\n",
       "    <tr style=\"text-align: right;\">\n",
       "      <th></th>\n",
       "      <th>Change %</th>\n",
       "      <th>High</th>\n",
       "      <th>Low</th>\n",
       "      <th>Open</th>\n",
       "      <th>Price</th>\n",
       "      <th>Vol.</th>\n",
       "    </tr>\n",
       "    <tr>\n",
       "      <th>Date</th>\n",
       "      <th></th>\n",
       "      <th></th>\n",
       "      <th></th>\n",
       "      <th></th>\n",
       "      <th></th>\n",
       "      <th></th>\n",
       "    </tr>\n",
       "  </thead>\n",
       "  <tbody>\n",
       "    <tr>\n",
       "      <th>1999-01-04</th>\n",
       "      <td>0.55%</td>\n",
       "      <td>0.7318</td>\n",
       "      <td>0.7315</td>\n",
       "      <td>0.7315</td>\n",
       "      <td>0.7318</td>\n",
       "      <td>NaN</td>\n",
       "    </tr>\n",
       "    <tr>\n",
       "      <th>1999-01-05</th>\n",
       "      <td>-0.33%</td>\n",
       "      <td>0.7294</td>\n",
       "      <td>0.7291</td>\n",
       "      <td>0.7291</td>\n",
       "      <td>0.7294</td>\n",
       "      <td>NaN</td>\n",
       "    </tr>\n",
       "    <tr>\n",
       "      <th>1999-01-06</th>\n",
       "      <td>-1.55%</td>\n",
       "      <td>0.7181</td>\n",
       "      <td>0.7180</td>\n",
       "      <td>0.7180</td>\n",
       "      <td>0.7181</td>\n",
       "      <td>NaN</td>\n",
       "    </tr>\n",
       "    <tr>\n",
       "      <th>1999-01-07</th>\n",
       "      <td>1.04%</td>\n",
       "      <td>0.7256</td>\n",
       "      <td>0.7254</td>\n",
       "      <td>0.7254</td>\n",
       "      <td>0.7256</td>\n",
       "      <td>NaN</td>\n",
       "    </tr>\n",
       "    <tr>\n",
       "      <th>1999-01-08</th>\n",
       "      <td>-1.17%</td>\n",
       "      <td>0.7171</td>\n",
       "      <td>0.7168</td>\n",
       "      <td>0.7168</td>\n",
       "      <td>0.7171</td>\n",
       "      <td>NaN</td>\n",
       "    </tr>\n",
       "  </tbody>\n",
       "</table>\n",
       "</div>"
      ],
      "text/plain": [
       "           Change %    High     Low    Open   Price  Vol.\n",
       "Date                                                     \n",
       "1999-01-04    0.55%  0.7318  0.7315  0.7315  0.7318   NaN\n",
       "1999-01-05   -0.33%  0.7294  0.7291  0.7291  0.7294   NaN\n",
       "1999-01-06   -1.55%  0.7181  0.7180  0.7180  0.7181   NaN\n",
       "1999-01-07    1.04%  0.7256  0.7254  0.7254  0.7256   NaN\n",
       "1999-01-08   -1.17%  0.7171  0.7168  0.7168  0.7171   NaN"
      ]
     },
     "execution_count": 5,
     "metadata": {},
     "output_type": "execute_result"
    }
   ],
   "source": [
    "data_frame = ind_exchangerate_data.sort_index(axis=1 ,ascending=True)\n",
    "data_frame = data_frame.iloc[::-1]\n",
    "data_frame.head()\n",
    "#data are reversed"
   ]
  },
  {
   "cell_type": "code",
   "execution_count": 6,
   "metadata": {},
   "outputs": [
    {
     "name": "stdout",
     "output_type": "stream",
     "text": [
      "             Price\n",
      "Date              \n",
      "1999-01-04  0.7318\n",
      "1999-01-05  0.7294\n",
      "1999-01-06  0.7181\n",
      "1999-01-07  0.7256\n",
      "1999-01-08  0.7171\n",
      "...            ...\n",
      "2017-11-27  1.0188\n",
      "2017-11-28  1.0160\n",
      "2017-11-29  1.0156\n",
      "2017-11-30  1.0167\n",
      "2017-12-01  1.0240\n",
      "\n",
      "[4932 rows x 1 columns]\n"
     ]
    },
    {
     "data": {
      "text/plain": [
       "<AxesSubplot: xlabel='Date'>"
      ]
     },
     "execution_count": 6,
     "metadata": {},
     "output_type": "execute_result"
    },
    {
     "data": {
      "image/png": "[encoded data removed]",
      "text/plain": [
       "<Figure size 640x480 with 1 Axes>"
      ]
     },
     "metadata": {},
     "output_type": "display_data"
    }
   ],
   "source": [
    "df = data_frame[[\"Price\"]]\n",
    "print(df)\n",
    "df.plot()"
   ]
  },
  {
   "cell_type": "code",
   "execution_count": 7,
   "metadata": {},
   "outputs": [
    {
     "name": "stdout",
     "output_type": "stream",
     "text": [
      "             Price\n",
      "Date              \n",
      "1999-01-04  0.7318\n",
      "1999-01-05  0.7294\n",
      "1999-01-06  0.7181\n",
      "1999-01-07  0.7256\n",
      "1999-01-08  0.7171\n",
      "...            ...\n",
      "2015-12-28  1.0119\n",
      "2015-12-29  1.0070\n",
      "2015-12-30  1.0113\n",
      "2015-12-31  0.9980\n",
      "2016-01-01  0.9985\n",
      "\n",
      "[4432 rows x 1 columns]\n"
     ]
    },
    {
     "data": {
      "text/plain": [
       "<matplotlib.legend.Legend at 0x1663d61d0>"
      ]
     },
     "execution_count": 7,
     "metadata": {},
     "output_type": "execute_result"
    },
    {
     "data": {
      "image/png": "[encoded data removed]",
      "text/plain": [
       "<Figure size 640x480 with 1 Axes>"
      ]
     },
     "metadata": {},
     "output_type": "display_data"
    }
   ],
   "source": [
    "split_date = pd.Timestamp('01-02-2016')\n",
    "\n",
    "train = df.loc[:split_date]\n",
    "print(train)\n",
    "test = df.loc[split_date:]\n",
    "\n",
    "ax = train.plot()\n",
    "test.plot(ax=ax)\n",
    "plt.legend(['train', 'test'])"
   ]
  },
  {
   "cell_type": "code",
   "execution_count": 8,
   "metadata": {},
   "outputs": [
    {
     "name": "stdout",
     "output_type": "stream",
     "text": [
      "500\n",
      "<class 'numpy.ndarray'>\n"
     ]
    },
    {
     "data": {
      "image/png": "[encoded data removed]",
      "text/plain": [
       "<Figure size 640x480 with 1 Axes>"
      ]
     },
     "metadata": {},
     "output_type": "display_data"
    }
   ],
   "source": [
    "#Data transformation\n",
    "sc = MinMaxScaler()\n",
    "train_sc = sc.fit_transform(train)\n",
    "print(len(test))\n",
    "print(type(train_sc[1]))\n",
    "test_sc = sc.transform(test)\n",
    "#ANN\n",
    "\n",
    "#Daily forecast change the number of day for it with changing the number in []\n",
    "X_train = train_sc[:-1]\n",
    "y_train = train_sc[1:]\n",
    "plt.plot(X_train-y_train)\n",
    "plt.title(\"data disparity between each shift\")\n",
    "\n",
    "X_test = test_sc[:-1]\n",
    "y_test = test_sc[1:]\n",
    "# a=[1,5,9,11,2,66] => a[:-1] = [1, 5, 9, 11, 2] input            \n",
    "# a=[1,5,9,11,2,66] => a[1:] = [5, 9, 11, 2, 66] target "
   ]
  },
  {
   "cell_type": "code",
   "execution_count": 9,
   "metadata": {},
   "outputs": [],
   "source": [
    "def complie(dataloader, opti):\n",
    "    epoch_loss = 0\n",
    "    if is_training:\n",
    "        model.train()\n",
    "    else:\n",
    "        model.eval()\n",
    "    for idx, (x, y) in enumerate(dataloader):\n",
    "        if is_training:\n",
    "            optimizer.zero_grad()\n",
    "        batchsize = x.shape[0]\n",
    "        x = x.to(config[\"train\"][\"device\"])\n",
    "        y = y.to(config[\"train\"][\"device\"])\n",
    "        loss = criterion(out.contiguous(), y.contiguous())\n",
    "        out = model(x)\n",
    "        if is_training:\n",
    "            loss.backward()\n",
    "            optimizer.step()\n",
    "        epoch_loss += (loss.detach().item() / batchsize)\n",
    "    lr = scheduler.get_last_lr()[0]\n",
    "    return epoch_loss, lr\n",
    "def fit(a,b,c,d,e,f,g):\n",
    "    compute_loss_source(a,b,e)\n",
    "    compute_loss_target(b,c,g)\n",
    "    \n",
    "def compute_loss_source(s_labels, l_source_w, l_source_s):\n",
    "    loss = keras.losses.CategoricalCrossentropy(from_logits=True)\n",
    "    w_loss = loss(s_labels, l_source_w)\n",
    "    s_loss = loss(s_labels, l_source_s)\n",
    "    return w_loss + s_loss\n",
    "def compute_loss_target(t_pseudo_labels_w, l_target_s, shift):\n",
    "    loss_func = keras.losses.CategoricalCrossentropy(from_logits=True, reduction=\"none\")\n",
    "    target_pseudo_labels_w = tf.stop_gradient(t_pseudo_labels_w)\n",
    "    target_loss = loss_func(t_pseudo_labels_w, l_target_s)\n",
    "    mask = tf.cast(shift, t_loss.dtype)\n",
    "    target_loss *= shift\n",
    "    return tf.reduce_mean(target_loss, 0)"
   ]
  },
  {
   "cell_type": "code",
   "execution_count": 10,
   "metadata": {},
   "outputs": [],
   "source": [
    "#private activation function \n",
    "def custom_activation(x):\n",
    "    return (2/(1 + Ker.exp(-2*x))-1)\n",
    "     \n",
    "get_custom_objects().update({'custom_activation': Activation(custom_activation)})"
   ]
  },
  {
   "cell_type": "code",
   "execution_count": 11,
   "metadata": {},
   "outputs": [],
   "source": [
    "def adj_r2_score(r2, n, k):\n",
    "    return 1-((1-r2)*((n-1)/(n-k-1)))"
   ]
  },
  {
   "cell_type": "markdown",
   "metadata": {},
   "source": [
    "ANN"
   ]
  },
  {
   "cell_type": "code",
   "execution_count": null,
   "metadata": {},
   "outputs": [
    {
     "name": "stdout",
     "output_type": "stream",
     "text": [
      "Metal device set to: Apple M1 Pro\n",
      "Model: \"sequential\"\n",
      "_________________________________________________________________\n",
      " Layer (type)                Output Shape              Param #   \n",
      "=================================================================\n",
      " dense (Dense)               (None, 5)                 10        \n",
      "                                                                 \n",
      " dense_1 (Dense)             (None, 2)                 12        \n",
      "                                                                 \n",
      " dense_2 (Dense)             (None, 1)                 3         \n",
      "                                                                 \n",
      "=================================================================\n",
      "Total params: 25\n",
      "Trainable params: 25\n",
      "Non-trainable params: 0\n",
      "_________________________________________________________________\n",
      "Epoch 1/4\n"
     ]
    },
    {
     "name": "stderr",
     "output_type": "stream",
     "text": [
      "2022-12-12 11:16:50.984923: I tensorflow/core/common_runtime/pluggable_device/pluggable_device_factory.cc:306] Could not identify NUMA node of platform GPU ID 0, defaulting to 0. Your kernel may not have been built with NUMA support.\n",
      "2022-12-12 11:16:50.985650: I tensorflow/core/common_runtime/pluggable_device/pluggable_device_factory.cc:272] Created TensorFlow device (/job:localhost/replica:0/task:0/device:GPU:0 with 0 MB memory) -> physical PluggableDevice (device: 0, name: METAL, pci bus id: <undefined>)\n",
      "2022-12-12 11:16:51.189870: W tensorflow/core/platform/profile_utils/cpu_utils.cc:128] Failed to get CPU frequency: 0 Hz\n"
     ]
    },
    {
     "name": "stdout",
     "output_type": "stream",
     "text": [
      "  17/4431 [..............................] - ETA: 13s - loss: 0.0428  "
     ]
    },
    {
     "name": "stderr",
     "output_type": "stream",
     "text": [
      "2022-12-12 11:16:51.344328: I tensorflow/core/grappler/optimizers/custom_graph_optimizer_registry.cc:114] Plugin optimizer for device_type GPU is enabled.\n"
     ]
    },
    {
     "name": "stdout",
     "output_type": "stream",
     "text": [
      "4431/4431 [==============================] - 13s 3ms/step - loss: 0.0016\n",
      "Epoch 2/4\n",
      "2368/4431 [===============>..............] - ETA: 5s - loss: 0.0030"
     ]
    }
   ],
   "source": [
    "K.clear_session()\n",
    "\n",
    "model = Sequential()\n",
    "model.add(Dense(5, input_dim=1, activation='relu'))\n",
    "model.add(Dense(2, input_dim=1, activation='relu'))\n",
    "\n",
    "model.add(Dense(1))\n",
    "model.compile(loss='mean_squared_error', optimizer='adam')\n",
    "model.summary()\n",
    "early = EarlyStopping(monitor='loss', patience=2, verbose=1)\n",
    "#model.compile(loss='binary_crossentropy', optimizer='adam')\n",
    "history = model.fit(X_train, y_train, epochs= 4, batch_size= 1,verbose = 1, callbacks= [early], shuffle= False)\n",
    "#Epoch: One pass through all of the rows in the training dataset\n",
    "#Batch: One or more samples considered by the model within an epoch before weights are updated\n"
   ]
  },
  {
   "cell_type": "code",
   "execution_count": 108,
   "metadata": {},
   "outputs": [
    {
     "name": "stdout",
     "output_type": "stream",
     "text": [
      "41/41 [==============================] - 0s 2ms/step\n",
      " 34/115 [=======>......................] - ETA: 0s"
     ]
    },
    {
     "name": "stderr",
     "output_type": "stream",
     "text": [
      "2022-12-02 12:19:38.964723: I tensorflow/core/grappler/optimizers/custom_graph_optimizer_registry.cc:114] Plugin optimizer for device_type GPU is enabled.\n"
     ]
    },
    {
     "name": "stdout",
     "output_type": "stream",
     "text": [
      "115/115 [==============================] - 0s 2ms/step\n",
      "The R2 score on the Train set is:\t-0.154\n",
      "R2 score on the Train set:\t-0.154\n",
      "\n",
      "R2 score on the Test set :\t0.287\n",
      "R2 score on the Test set:\t0.287\n"
     ]
    }
   ],
   "source": [
    "y_pred_test_ann = model.predict(X_test)\n",
    "y_train_pred_ann = model.predict(X_train)\n",
    "print(\"The R2 score on the Train set is:\\t{:0.3f}\".format(r2_score(y_train, y_train_pred_ann)))\n",
    "r2_train = r2_score(y_train, y_train_pred_ann)\n",
    "print(\"R2 score on the Train set:\\t{:0.3f}\\n\".format(adj_r2_score(r2_train, X_train.shape[0], X_train.shape[1])))\n",
    "print(\"R2 score on the Test set :\\t{:0.3f}\".format(r2_score(y_test, y_pred_test_ann)))\n",
    "r2_test = r2_score(y_test, y_pred_test_ann)\n",
    "print(\"R2 score on the Test set:\\t{:0.3f}\".format(adj_r2_score(r2_test, X_test.shape[0], X_test.shape[1])))"
   ]
  },
  {
   "cell_type": "code",
   "execution_count": 109,
   "metadata": {},
   "outputs": [],
   "source": [
    "model.save('ANN_NonShift.h5')"
   ]
  },
  {
   "cell_type": "markdown",
   "metadata": {},
   "source": [
    "LTSM"
   ]
  },
  {
   "cell_type": "code",
   "execution_count": 13,
   "metadata": {},
   "outputs": [],
   "source": [
    "X_tr_t = X_train.reshape(X_train.shape[0], 1, X_train.shape[1])\n",
    "X_tst_t = X_test.reshape(X_test.shape[0], 1, X_test.shape[1])"
   ]
  },
  {
   "cell_type": "code",
   "execution_count": 14,
   "metadata": {},
   "outputs": [
    {
     "name": "stdout",
     "output_type": "stream",
     "text": [
      "Metal device set to: Apple M1 Pro\n",
      "WARNING:tensorflow:Layer lstm will not use cuDNN kernels since it doesn't meet the criteria. It will use a generic GPU kernel as fallback when running on GPU.\n"
     ]
    },
    {
     "name": "stderr",
     "output_type": "stream",
     "text": [
      "2022-12-11 15:58:48.154430: I tensorflow/core/common_runtime/pluggable_device/pluggable_device_factory.cc:306] Could not identify NUMA node of platform GPU ID 0, defaulting to 0. Your kernel may not have been built with NUMA support.\n",
      "2022-12-11 15:58:48.155135: I tensorflow/core/common_runtime/pluggable_device/pluggable_device_factory.cc:272] Created TensorFlow device (/job:localhost/replica:0/task:0/device:GPU:0 with 0 MB memory) -> physical PluggableDevice (device: 0, name: METAL, pci bus id: <undefined>)\n"
     ]
    },
    {
     "name": "stdout",
     "output_type": "stream",
     "text": [
      "Epoch 1/4\n"
     ]
    },
    {
     "name": "stderr",
     "output_type": "stream",
     "text": [
      "2022-12-11 15:58:48.445777: W tensorflow/core/platform/profile_utils/cpu_utils.cc:128] Failed to get CPU frequency: 0 Hz\n",
      "2022-12-11 15:58:48.711086: I tensorflow/core/grappler/optimizers/custom_graph_optimizer_registry.cc:114] Plugin optimizer for device_type GPU is enabled.\n"
     ]
    },
    {
     "name": "stdout",
     "output_type": "stream",
     "text": [
      "4431/4431 [==============================] - 34s 8ms/step - loss: 2.7546e-04\n",
      "Epoch 2/4\n",
      "4431/4431 [==============================] - 32s 7ms/step - loss: 1.6678e-04\n",
      "Epoch 3/4\n",
      "4431/4431 [==============================] - 33s 7ms/step - loss: 1.4384e-04\n",
      "Epoch 4/4\n",
      "4431/4431 [==============================] - 32s 7ms/step - loss: 1.3186e-04\n",
      "16/16 [==============================] - 0s 4ms/step\n",
      "  1/139 [..............................] - ETA: 1s"
     ]
    },
    {
     "name": "stderr",
     "output_type": "stream",
     "text": [
      "2022-12-11 16:01:00.082943: I tensorflow/core/grappler/optimizers/custom_graph_optimizer_registry.cc:114] Plugin optimizer for device_type GPU is enabled.\n"
     ]
    },
    {
     "name": "stdout",
     "output_type": "stream",
     "text": [
      "139/139 [==============================] - 1s 5ms/step\n",
      "The R2 score on the Train set is:\t0.864\n",
      "The Adjusted R2 score on the Train set is:\t0.864\n",
      "\n",
      "The R2 score on the Test set is:\t0.796\n",
      "The Adjusted R2 score on the Test set is:\t0.796\n"
     ]
    }
   ],
   "source": [
    "K.clear_session()\n",
    "model_lstm = Sequential()\n",
    "model_lstm.add(LSTM(11, input_shape=(1, X_train.shape[1]), activation='relu', kernel_initializer='lecun_uniform', return_sequences=False))\n",
    "model_lstm.add(Dense(1))\n",
    "model_lstm.compile(loss='mean_squared_error', optimizer='adam')\n",
    "early_stop = EarlyStopping(monitor='loss', patience=5, verbose=1)\n",
    "history_model_lstm = model_lstm.fit(X_tr_t, y_train, epochs=4, batch_size=1, verbose=1, shuffle=False, callbacks=[early_stop])\n",
    "\n",
    "y_pred_test_lstm = model_lstm.predict(X_tst_t)\n",
    "y_train_pred_lstm = model_lstm.predict(X_tr_t)\n",
    "print(\"The R2 score on the Train set is:\\t{:0.3f}\".format(r2_score(y_train, y_train_pred_lstm)))\n",
    "r2_train = r2_score(y_train, y_train_pred_lstm)\n",
    "print(\"The Adjusted R2 score on the Train set is:\\t{:0.3f}\\n\".format(adj_r2_score(r2_train, X_train.shape[0], X_train.shape[1])))\n",
    "print(\"The R2 score on the Test set is:\\t{:0.3f}\".format(r2_score(y_test, y_pred_test_lstm)))\n",
    "r2_test = r2_score(y_test, y_pred_test_lstm)\n",
    "print(\"The Adjusted R2 score on the Test set is:\\t{:0.3f}\".format(adj_r2_score(r2_test, X_test.shape[0], X_test.shape[1])))"
   ]
  },
  {
   "cell_type": "code",
   "execution_count": 15,
   "metadata": {},
   "outputs": [],
   "source": [
    "model_lstm.save('LSTM_NonShift.h5')"
   ]
  },
  {
   "cell_type": "markdown",
   "metadata": {},
   "source": [
    "Résultat"
   ]
  },
  {
   "cell_type": "code",
   "execution_count": 16,
   "metadata": {},
   "outputs": [
    {
     "name": "stdout",
     "output_type": "stream",
     "text": [
      "WARNING:tensorflow:Layer lstm will not use cuDNN kernels since it doesn't meet the criteria. It will use a generic GPU kernel as fallback when running on GPU.\n"
     ]
    }
   ],
   "source": [
    "model_ann = load_model('ANN_NonShift.h5')\n",
    "model_lstm = load_model('LSTM_NonShift.h5')"
   ]
  },
  {
   "cell_type": "code",
   "execution_count": 17,
   "metadata": {},
   "outputs": [
    {
     "name": "stdout",
     "output_type": "stream",
     "text": [
      " 81/499 [===>..........................] - ETA: 0s - loss: 0.0032"
     ]
    },
    {
     "name": "stderr",
     "output_type": "stream",
     "text": [
      "2022-12-11 16:02:00.053611: I tensorflow/core/grappler/optimizers/custom_graph_optimizer_registry.cc:114] Plugin optimizer for device_type GPU is enabled.\n"
     ]
    },
    {
     "name": "stdout",
     "output_type": "stream",
     "text": [
      "499/499 [==============================] - 1s 2ms/step - loss: 0.0031\n",
      " 41/499 [=>............................] - ETA: 1s - loss: 1.6242e-04"
     ]
    },
    {
     "name": "stderr",
     "output_type": "stream",
     "text": [
      "2022-12-11 16:02:01.056747: I tensorflow/core/grappler/optimizers/custom_graph_optimizer_registry.cc:114] Plugin optimizer for device_type GPU is enabled.\n"
     ]
    },
    {
     "name": "stdout",
     "output_type": "stream",
     "text": [
      "499/499 [==============================] - 2s 3ms/step - loss: 1.0691e-04\n"
     ]
    }
   ],
   "source": [
    "score_ann= model_ann.evaluate(X_test, y_test, batch_size=1)\n",
    "score_lstm= model_lstm.evaluate(X_tst_t, y_test, batch_size=1)"
   ]
  },
  {
   "cell_type": "code",
   "execution_count": 18,
   "metadata": {},
   "outputs": [
    {
     "name": "stdout",
     "output_type": "stream",
     "text": [
      "ANN: 0.003129\n",
      "LSTM: 0.000107\n",
      "16/16 [==============================] - 0s 3ms/step\n"
     ]
    },
    {
     "name": "stderr",
     "output_type": "stream",
     "text": [
      "2022-12-11 16:02:04.174487: I tensorflow/core/grappler/optimizers/custom_graph_optimizer_registry.cc:114] Plugin optimizer for device_type GPU is enabled.\n"
     ]
    }
   ],
   "source": [
    "print('ANN: %f'%score_ann)\n",
    "print('LSTM: %f'%score_lstm)#if predictions are totally off => higher number. If they're pretty good => lower number\n",
    "y_pred_test_ANN = model_ann.predict(X_test)"
   ]
  },
  {
   "cell_type": "code",
   "execution_count": 19,
   "metadata": {},
   "outputs": [
    {
     "name": "stdout",
     "output_type": "stream",
     "text": [
      "16/16 [==============================] - 0s 2ms/step\n",
      "16/16 [==============================] - 0s 4ms/step\n"
     ]
    },
    {
     "name": "stderr",
     "output_type": "stream",
     "text": [
      "2022-12-11 16:02:09.190562: I tensorflow/core/grappler/optimizers/custom_graph_optimizer_registry.cc:114] Plugin optimizer for device_type GPU is enabled.\n"
     ]
    }
   ],
   "source": [
    "y_pred_test_ANN = model_ann.predict(X_test)\n",
    "y_pred_test_LSTM = model_lstm.predict(X_tst_t)\n"
   ]
  },
  {
   "cell_type": "code",
   "execution_count": 20,
   "metadata": {},
   "outputs": [
    {
     "data": {
      "image/png": "[encoded data removed]",
      "text/plain": [
       "<Figure size 640x480 with 1 Axes>"
      ]
     },
     "metadata": {},
     "output_type": "display_data"
    },
    {
     "data": {
      "image/png": "[encoded data removed]",
      "text/plain": [
       "<Figure size 640x480 with 1 Axes>"
      ]
     },
     "metadata": {},
     "output_type": "display_data"
    }
   ],
   "source": [
    "plt.plot(y_test, label='True')\n",
    "plt.plot(y_pred_test_ANN, label='ANN')\n",
    "plt.title(\"ANN's_Prediction\")\n",
    "plt.xlabel('Observation')\n",
    "plt.ylabel('INR_Scaled')\n",
    "plt.legend()\n",
    "plt.show()\n",
    "plt.plot(y_test, label='True')\n",
    "plt.plot(y_pred_test_LSTM, label='LSTM')\n",
    "plt.plot(y_pred_test_ANN, label='ANN')\n",
    "plt.title(\"LSTM's_ANN's_Prediction\")\n",
    "plt.xlabel('Observation')\n",
    "plt.ylabel('INR_Scaled')\n",
    "plt.legend()\n",
    "plt.show()"
   ]
  },
  {
   "cell_type": "code",
   "execution_count": 41,
   "metadata": {},
   "outputs": [
    {
     "data": {
      "image/png": "[encoded data removed]",
      "text/plain": [
       "<Figure size 640x480 with 1 Axes>"
      ]
     },
     "metadata": {},
     "output_type": "display_data"
    }
   ],
   "source": [
    "\n",
    "from random import seed\n",
    "from random import random\n",
    "from matplotlib import pyplot\n",
    "seed(6)\n",
    "random_walk = list()\n",
    "random_walk.append(0.52)\n",
    "for i in range(1, 499):\n",
    "\tmovement = -0.01 if random() < 0.5 else 0.01\n",
    "\tvalue = random_walk[i-1] + movement\n",
    "\trandom_walk.append(value)\n",
    "plt.plot(random_walk, label='rw')\n",
    "plt.plot(y_test, label='True')\n",
    "plt.plot(y_pred_test_LSTM, label='LSTM')\n",
    "plt.plot(y_pred_test_ANN, label='ANN')\n",
    "\n",
    "plt.legend()\n",
    "\n",
    "pyplot.show()"
   ]
  },
  {
   "cell_type": "code",
   "execution_count": 42,
   "metadata": {},
   "outputs": [
    {
     "name": "stdout",
     "output_type": "stream",
     "text": [
      "Root Mean Square Error ANN:\n",
      "\n",
      "5.593484873154661\n",
      "Root Mean Square Error LSTM:\n",
      "\n",
      "1.0339923036842709\n",
      "Root Mean Square Error Random Walk:\n",
      "\n",
      "7.431995636539086\n"
     ]
    }
   ],
   "source": [
    "import math\n",
    "MSE = np.square(np.subtract(y_test,y_pred_test_ANN)).mean() \n",
    " \n",
    "RMSE = math.sqrt(MSE)\n",
    "print(\"Root Mean Square Error ANN:\\n\")\n",
    "print(RMSE*100)\n",
    "MSE = np.square(np.subtract(y_test,y_pred_test_LSTM)).mean() \n",
    " \n",
    "RMSE = math.sqrt(MSE)\n",
    "print(\"Root Mean Square Error LSTM:\\n\")\n",
    "print(RMSE*100)\n",
    "\n",
    "MSE = np.square(np.subtract(y_test,random_walk)).mean() \n",
    " \n",
    "RMSE = math.sqrt(MSE)\n",
    "print(\"Root Mean Square Error Random Walk:\\n\")\n",
    "print(RMSE*100)\n"
   ]
  },
  {
   "cell_type": "code",
   "execution_count": 1,
   "metadata": {},
   "outputs": [
    {
     "ename": "NameError",
     "evalue": "name 'y_test' is not defined",
     "output_type": "error",
     "traceback": [
      "\u001b[0;31m---------------------------------------------------------------------------\u001b[0m",
      "\u001b[0;31mNameError\u001b[0m                                 Traceback (most recent call last)",
      "Cell \u001b[0;32mIn [1], line 7\u001b[0m\n\u001b[1;32m      5\u001b[0m \u001b[38;5;28;01mfrom\u001b[39;00m \u001b[38;5;21;01mplotly\u001b[39;00m\u001b[38;5;21;01m.\u001b[39;00m\u001b[38;5;21;01msubplots\u001b[39;00m \u001b[38;5;28;01mimport\u001b[39;00m make_subplots\n\u001b[1;32m      6\u001b[0m \u001b[38;5;28;01mfrom\u001b[39;00m \u001b[38;5;21;01mplotly\u001b[39;00m\u001b[38;5;21;01m.\u001b[39;00m\u001b[38;5;21;01moffline\u001b[39;00m \u001b[38;5;28;01mimport\u001b[39;00m download_plotlyjs, init_notebook_mode, plot, iplot\n\u001b[0;32m----> 7\u001b[0m list_of_numbers \u001b[38;5;241m=\u001b[39m \u001b[38;5;28mlist\u001b[39m(\u001b[38;5;28mrange\u001b[39m(\u001b[38;5;241m1\u001b[39m, \u001b[38;5;28mlen\u001b[39m(\u001b[43my_test\u001b[49m)\u001b[38;5;241m+\u001b[39m\u001b[38;5;241m1\u001b[39m))\n\u001b[1;32m      8\u001b[0m df \u001b[38;5;241m=\u001b[39m pd\u001b[38;5;241m.\u001b[39mDataFrame(y_test, columns \u001b[38;5;241m=\u001b[39m [\u001b[38;5;124m'\u001b[39m\u001b[38;5;124mIndex Value\u001b[39m\u001b[38;5;124m'\u001b[39m])\u001b[38;5;66;03m#True\u001b[39;00m\n\u001b[1;32m      9\u001b[0m df2 \u001b[38;5;241m=\u001b[39m pd\u001b[38;5;241m.\u001b[39mDataFrame(y_pred_test_ANN, columns \u001b[38;5;241m=\u001b[39m [\u001b[38;5;124m'\u001b[39m\u001b[38;5;124mIndex Value\u001b[39m\u001b[38;5;124m'\u001b[39m])\u001b[38;5;66;03m#ANN\u001b[39;00m\n",
      "\u001b[0;31mNameError\u001b[0m: name 'y_test' is not defined"
     ]
    }
   ],
   "source": [
    "import plotly as py\n",
    "import plotly.io as pio\n",
    "import plotly.graph_objects as go\n",
    "import plotly.express as px\n",
    "from plotly.subplots import make_subplots\n",
    "from plotly.offline import download_plotlyjs, init_notebook_mode, plot, iplot\n",
    "list_of_numbers = list(range(1, len(y_test)+1))\n",
    "df = pd.DataFrame(y_test, columns = ['Index Value'])#True\n",
    "df2 = pd.DataFrame(y_pred_test_ANN, columns = ['Index Value'])#ANN\n",
    "df3 = pd.DataFrame(y_pred_test_LSTM, columns = ['Index Value'])#LSTM\n",
    "df4 = pd.DataFrame(random_walk, columns = ['Index Value'])\n"
   ]
  },
  {
   "cell_type": "code",
   "execution_count": 39,
   "metadata": {},
   "outputs": [
    {
     "data": {
      "application/vnd.plotly.v1+json": {
       "config": {
        "plotlyServerURL": "https://plot.ly"
       },
       "data": [
        {
         "name": "CHF/USD",
         "type": "scatter",
         "x": [
          1,
          2,
          3,
          4,
          5,
          6,
          7,
          8,
          9,
          10,
          11,
          12,
          13,
          14,
          15,
          16,
          17,
          18,
          19,
          20,
          21,
          22,
          23,
          24,
          25,
          26,
          27,
          28,
          29,
          30,
          31,
          32,
          33,
          34,
          35,
          36,
          37,
          38,
          39,
          40,
          41,
          42,
          43,
          44,
          45,
          46,
          47,
          48,
          49,
          50,
          51,
          52,
          53,
          54,
          55,
          56,
          57,
          58,
          59,
          60,
          61,
          62,
          63,
          64,
          65,
          66,
          67,
          68,
          69,
          70,
          71,
          72,
          73,
          74,
          75,
          76,
          77,
          78,
          79,
          80,
          81,
          82,
          83,
          84,
          85,
          86,
          87,
          88,
          89,
          90,
          91,
          92,
          93,
          94,
          95,
          96,
          97,
          98,
          99,
          100,
          101,
          102,
          103,
          104,
          105,
          106,
          107,
          108,
          109,
          110,
          111,
          112,
          113,
          114,
          115,
          116,
          117,
          118,
          119,
          120,
          121,
          122,
          123,
          124,
          125,
          126,
          127,
          128,
          129,
          130,
          131,
          132,
          133,
          134,
          135,
          136,
          137,
          138,
          139,
          140,
          141,
          142,
          143,
          144,
          145,
          146,
          147,
          148,
          149,
          150,
          151,
          152,
          153,
          154,
          155,
          156,
          157,
          158,
          159,
          160,
          161,
          162,
          163,
          164,
          165,
          166,
          167,
          168,
          169,
          170,
          171,
          172,
          173,
          174,
          175,
          176,
          177,
          178,
          179,
          180,
          181,
          182,
          183,
          184,
          185,
          186,
          187,
          188,
          189,
          190,
          191,
          192,
          193,
          194,
          195,
          196,
          197,
          198,
          199,
          200,
          201,
          202,
          203,
          204,
          205,
          206,
          207,
          208,
          209,
          210,
          211,
          212,
          213,
          214,
          215,
          216,
          217,
          218,
          219,
          220,
          221,
          222,
          223,
          224,
          225,
          226,
          227,
          228,
          229,
          230,
          231,
          232,
          233,
          234,
          235,
          236,
          237,
          238,
          239,
          240,
          241,
          242,
          243,
          244,
          245,
          246,
          247,
          248,
          249,
          250,
          251,
          252,
          253,
          254,
          255,
          256,
          257,
          258,
          259,
          260,
          261,
          262,
          263,
          264,
          265,
          266,
          267,
          268,
          269,
          270,
          271,
          272,
          273,
          274,
          275,
          276,
          277,
          278,
          279,
          280,
          281,
          282,
          283,
          284,
          285,
          286,
          287,
          288,
          289,
          290,
          291,
          292,
          293,
          294,
          295,
          296,
          297,
          298,
          299,
          300,
          301,
          302,
          303,
          304,
          305,
          306,
          307,
          308,
          309,
          310,
          311,
          312,
          313,
          314,
          315,
          316,
          317,
          318,
          319,
          320,
          321,
          322,
          323,
          324,
          325,
          326,
          327,
          328,
          329,
          330,
          331,
          332,
          333,
          334,
          335,
          336,
          337,
          338,
          339,
          340,
          341,
          342,
          343,
          344,
          345,
          346,
          347,
          348,
          349,
          350,
          351,
          352,
          353,
          354,
          355,
          356,
          357,
          358,
          359,
          360,
          361,
          362,
          363,
          364,
          365,
          366,
          367,
          368,
          369,
          370,
          371,
          372,
          373,
          374,
          375,
          376,
          377,
          378,
          379,
          380,
          381,
          382,
          383,
          384,
          385,
          386,
          387,
          388,
          389,
          390,
          391,
          392,
          393,
          394,
          395,
          396,
          397,
          398,
          399,
          400,
          401,
          402,
          403,
          404,
          405,
          406,
          407,
          408,
          409,
          410,
          411,
          412,
          413,
          414,
          415,
          416,
          417,
          418,
          419,
          420,
          421,
          422,
          423,
          424,
          425,
          426,
          427,
          428,
          429,
          430,
          431,
          432,
          433,
          434,
          435,
          436,
          437,
          438,
          439,
          440,
          441,
          442,
          443,
          444,
          445,
          446,
          447,
          448,
          449,
          450,
          451,
          452,
          453,
          454,
          455,
          456,
          457,
          458,
          459,
          460,
          461,
          462,
          463,
          464,
          465,
          466,
          467,
          468,
          469,
          470,
          471,
          472,
          473,
          474,
          475,
          476,
          477,
          478,
          479,
          480,
          481,
          482,
          483,
          484,
          485,
          486,
          487,
          488,
          489,
          490,
          491,
          492,
          493,
          494,
          495,
          496,
          497,
          498,
          499
         ],
         "xaxis": "x",
         "y": [
          0.019016149624012657,
          0.01293159041167602,
          0.0030099210016307776,
          0.009552274770262548,
          0.016552729368066954,
          0.01161739936912043,
          0.016260008221975486,
          0.011919957752924981,
          0.009636877324496806,
          0.014955437690501672,
          0.010564150454542398,
          0.013437774747056652,
          0.015766956464768667,
          0.023908257113023135,
          0.013712167968430222,
          0.02087724538817959,
          0.015778027979323372,
          0.015163967779398435,
          0.027532466212170537,
          0.016429200180995363,
          0.017537225764121978,
          0.001683988829727534,
          0.0008271931030563451,
          0.0046682729129665645,
          0.001585458009238927,
          0.013187361906358941,
          0.0011655513221735525,
          0.002968535893259183,
          0.003195762120013157,
          0.012077452109344522,
          0.006511106692508983,
          0.00976168757930651,
          0.007974478682763353,
          0.0039038934701927097,
          0.017563389996128054,
          2.8936530102274816e-05,
          0.0037137356970107227,
          0.007097152709389487,
          0.013968422949992565,
          0.01108794933025381,
          0.008496222301755285,
          0.008481788499545173,
          0.004452148006660828,
          0.008486638167720217,
          0.009539123235740465,
          0.009498297725343718,
          0.00978425758337842,
          0.005433824913740004,
          0.0007505246877241856,
          0.008027939442176946,
          0.004519881175048868,
          0.008108425961774968,
          0.01207685709142492,
          0.001752665951410437,
          0.004175404333796706,
          0.00017223778136687962,
          0.000824124474522625,
          0.0007744510063800725,
          0.0015240517399710551,
          0.004797798770141082,
          0.010757631159885817,
          0.007816977940896974,
          0.0105780912916984,
          0.013592164619301794,
          0.008290589441433127,
          0.013329175177128949,
          0.011544719708044271,
          0.011502156184775236,
          0.012918891043917302,
          0.012482335011783308,
          0.010643062825828498,
          0.0036602824729956573,
          0.005372324605556589,
          0.004533498961458493,
          0.00946987801643795,
          0.009694815867671513,
          0.00519887338933156,
          0.001258225102421795,
          0.0029403482746264142,
          0.003969421359577119,
          0.00319278598760242,
          0.0049080783767998515,
          0.008803910113438063,
          0.014647415328554292,
          0.01598272170043402,
          0.012792332962360708,
          0.007266925522636747,
          0.0027123069748897777,
          0.001243139920368952,
          0.004183941547423631,
          0.0028198166690664994,
          0.007035243132644364,
          0.004105863134042265,
          0.002870286518117604,
          0.0018364338763394716,
          0.0035644373399472684,
          0.0103133756218734,
          0.008464352437448364,
          0.005642832082642268,
          0.005294817982497202,
          0.010173499741334524,
          0.0050277696175802244,
          0.004118797249105688,
          0.012193368194058918,
          0.004987957386144881,
          0.008722472655123381,
          0.000895174482470118,
          0.007569313806427669,
          0.011601527134339262,
          0.007634404307000242,
          0.010335670323197599,
          0.014028257563701185,
          0.0024464686235456945,
          0.006457297876254042,
          0.006888320154597949,
          0.008111789856505514,
          0.009771151996930127,
          0.0034812495764176,
          0.012926488932626157,
          0.006010008736810901,
          0.007908145548555678,
          0.012630147788251556,
          0.010147754634619588,
          0.009836995073104982,
          0.00412675183000788,
          0.005091011945611346,
          0.0008785561575297418,
          0.0035279318913503666,
          0.00435181939723317,
          0.004451035767561562,
          0.003633992889100268,
          0.002704220463802365,
          0.002991196843519228,
          0.006482063009754846,
          0.0022682050518678665,
          0.009871822277752518,
          0.0010597376997705243,
          0.0017934626915843133,
          0.0038624562925746453,
          0.002109760620981227,
          0.006164571694659449,
          0.005728398053642003,
          0.0028701575663792056,
          0.0059404924717259,
          0.002888211966846743,
          0.011904414954337028,
          0.0007732744628330401,
          0.0023095793106944207,
          0.012914056589390599,
          0.005324210507773985,
          0.010116826830830039,
          0.00468505231687022,
          0.0009034813128951935,
          0.006447838929829475,
          0.0037691808304007868,
          0.0009384122774800385,
          0.005970560804393399,
          0.0006291348824176701,
          0.0025502442456490915,
          0.003643373874506528,
          0.016551549581798497,
          0.007600552875742794,
          0.018191035276690748,
          0.0032343585952587794,
          0.006671831813524154,
          0.006661218515479517,
          0.0025097519355736786,
          0.004293834491716053,
          0.010038901703881997,
          0.0008185474296897866,
          0.007227195959165655,
          0.0030990051608945635,
          0.001648004130734293,
          0.0022910320951667895,
          0.0004338996077528634,
          0.011895928560009095,
          0.0037428534266616964,
          0.00041190225110931955,
          0.0012085090217797134,
          0.005593164685673724,
          0.0030330050627296323,
          0.004475981679199936,
          0.003996713880009661,
          0.008305623397061535,
          0.0005803482199659982,
          0.00020712716198012515,
          0.006038469451140838,
          0.008360986462462083,
          0.0018245665737079975,
          0.005207474043156468,
          0.0022085724011233765,
          0.0032424476705246175,
          0.009545905108648833,
          0.0012648054409201137,
          0.0005847847554552033,
          0.004798332647765857,
          0.005340033837461844,
          0.006328006694958255,
          0.002508673509342696,
          0.006252727564256988,
          0.010165494362560867,
          0.00765051061768518,
          0.0007297104529238041,
          0.008926961506248832,
          0.00488963722111313,
          0.006395617654182173,
          0.004678496477345195,
          0.010212790816040096,
          0.008081815034204798,
          0.0075605128109992314,
          0.008758835159710765,
          0.006695026469987875,
          0.007754791247194914,
          0.0016141678916972158,
          0.005807223828557584,
          0.011505129003038794,
          0.0037230231006251113,
          0.001407876908957606,
          0.008673130180251398,
          0.0026333390987869354,
          0.002972704118565428,
          0.008164938414718215,
          0.0064922642822105026,
          0.006419202137164737,
          0.016860015139456896,
          0.014068771208596953,
          0.011408583206499179,
          0.017564519148804303,
          0.01710974091609274,
          0.01334893419186911,
          0.017333283097248353,
          0.021781930493479873,
          0.018088490167301297,
          0.013664168808687371,
          0.01586526074475203,
          0.014732866940061262,
          0.022359416669110788,
          0.009445683380456149,
          0.01650834900665732,
          0.009526346485510429,
          0.017760114094109714,
          0.011834891846681295,
          0.02411611960132798,
          0.01947376538780099,
          0.012853161113000722,
          0.01486324339015832,
          0.02524617293982412,
          0.030213833755186936,
          0.01865227922413304,
          0.022846596336707714,
          0.023910135162883872,
          0.02026966073828751,
          0.020625767920672944,
          0.02248001248626541,
          0.022261251826140693,
          0.02302914213605667,
          0.022689357148165445,
          0.016105015724986682,
          0.01518055042012012,
          0.024409171212141034,
          0.02474783258998081,
          0.01448555599078949,
          0.006658164572044489,
          0.02472161782437854,
          0.014659758339819806,
          0.0189553590289413,
          0.01449352312116603,
          0.013086431065028714,
          0.013023096690855107,
          0.01830361767969424,
          0.00316428606777297,
          0.01803014482689025,
          0.012404362565389793,
          0.008085326237047274,
          0.004862302252459205,
          0.014308166689612767,
          0.009134854900401335,
          0.010741665300457282,
          0.010321306446628542,
          0.0048841850996161895,
          0.0011395782892973383,
          0.010156220201249067,
          0.006974205147941559,
          0.006957879282172508,
          0.005189396322237805,
          0.014407507140455245,
          0.005815525094929885,
          0.016686309183908232,
          0.012127576615726054,
          0.015314934395115332,
          0.013572586704114764,
          0.012235439330821496,
          0.0030147196576582047,
          0.016016145128201043,
          0.011733432191799675,
          0.01988202416303997,
          0.015570591266030887,
          0.010124782925954978,
          0.01479593138983315,
          0.015368366455731808,
          0.010786406096760848,
          0.016656720852551876,
          0.01953415924235702,
          0.009547205975557027,
          0.019083165736738517,
          0.017413539383638543,
          0.017782576502690883,
          0.01386909751994958,
          0.014461271801417874,
          0.010746284228302594,
          0.01710974091609274,
          0.003283026462689742,
          0.0059464242374061005,
          0.011626829116768711,
          0.009904076068825596,
          0.004152128795009036,
          0.004506169371150781,
          0.00903191887882393,
          0.0050731556511269815,
          0.00038926282851825533,
          0.012171768685027118,
          0.012094279911219585,
          0.014473086934806867,
          0.013298254023061062,
          0.010188958772004542,
          0.01160375571236627,
          0.014852869710642258,
          0.012664127549845139,
          0.017457416944692383,
          0.013945820911549278,
          0.01293159041167602,
          0.008613805780873562,
          0.015461577106336444,
          0.012355271565692716,
          0.011806607139260628,
          0.002660929713869109,
          0.011461908871574611,
          0.010054041355080479,
          0.006428941257561549,
          0.008480446627213034,
          0.006038713919466643,
          0.00712645069577178,
          0.008502904428844271,
          0.009150387549414774,
          0.009647666965150847,
          0.0030736524305921,
          0.010486708400205158,
          0.0022019767061258744,
          0.005018599044783745,
          0.019001586798638614,
          0.01993973153733153,
          0.015595877384839474,
          0.013063218559313139,
          0.005510202005568177,
          0.005765491434740699,
          0.003906333010806673,
          0.004586391773246712,
          0.0017768845649592802,
          0.008347599244960424,
          0.0011632478330003693,
          0.0012033656016305905,
          0.00435181939723317,
          0.0025337200096227086,
          0.0005190371609933297,
          0.002707734573666132,
          0.003865161222065927,
          0.010212158485398914,
          0.0002666704950395893,
          0.014940003515932387,
          0.0037625624077843867,
          0.010385103065714718,
          0.004050831561891233,
          0.003459742377802888,
          0.0021843053681755986,
          0.005061008010244894,
          0.004412926707602072,
          0.0015369530706936807,
          0.002005580844387733,
          0.0029786054069513845,
          0.0001471022133918698,
          0.001446210638072598,
          0.004703430868037817,
          0.0033202280606816625,
          0.00576227988362521,
          0.0005551533044776402,
          0.01786740067620829,
          0.009840268021646947,
          0.013994416810567678,
          0.00804827333282332,
          0.0030558047714599468,
          0.004473028681533986,
          0.008083441273190495,
          0.011301060791426787,
          0.004230477825619694,
          0.004710287873512131,
          0.008514523156179177,
          0.004975278510384484,
          0.0037943301477998403,
          0.010021468877363882,
          0.008236194228325777,
          0.01777981335421086,
          0.010797271655661467,
          0.017113019264408447,
          0.02104957992977674,
          0.01559852578098564,
          0.00838411160041086,
          0.015270806894536637,
          0.004395152409681025,
          0.0013992562631135463,
          0.006689739170154363,
          0.007001848046546799,
          0.0005927266940304321,
          0.006358085777175226,
          0.00107552004546152,
          0.0020768562143187452,
          0.0007836490780239735,
          0.01519456180431944,
          0.008498898796723608,
          0.008481503718623662,
          0.00507904115446034,
          0.0020247174352139297,
          0.01120657120870927,
          0.009664658053039732,
          0.004812248193124757,
          0.010218594587084961,
          2.5080655990938894e-05,
          0.008343238963417932,
          0.0060711426103521315,
          0.017406957866618278,
          0.012638182201522463,
          0.01126942694580002,
          0.0008651552620300151,
          0.013580278531743373,
          0.0018304277209195696,
          0.014557583186353362,
          0.013982386150497073,
          0.010071104597088265,
          0.01846715976836233,
          0.022307256890885974,
          0.0019256472444735273,
          0.005743571703415551,
          0.003706558804943194,
          0.008088690153205347,
          0.01161700178578351,
          0.006897558274563398,
          0.006739223574791842,
          0.0017528409297915548,
          0.002760776729195058,
          0.005327306278027688,
          0.00776874463382482,
          0.0024970873163587815,
          0.00029074129335460164,
          0.0052601877767357585,
          0.006260262941299777,
          0.0036399845237000683,
          0.0027353261458507028,
          0.00013991524317513715,
          0.0027261676939753787,
          3.575382295517571e-05,
          0.002340094660341352,
          0.004726254240062344,
          0.0032654440495836212,
          0.0003645399575324948,
          0.0022850362821706938,
          0.00024077791593390963,
          0.0026752595204375673,
          0.00425218630151325,
          0.004679201412086664,
          0.009403224909926955,
          0.004095619584786991,
          0.011009935992717157,
          0.004626828728499399,
          0.015565950310537424,
          0.009455460942098703,
          0.005500997191349777,
          0.011922437584707346,
          0.0161660660948848,
          0.007162125779169859,
          0.011850407674971253,
          0.006963813783452677,
          0.012361388816456431,
          0.01060570129882521,
          0.0032207735146214667,
          0.00994388676461111,
          0.00919944003643991,
          0.0004373432634261487,
          0.0043301247493316986,
          0.012214783682231722,
          0.0011216278130454782,
          0.011393535601442961,
          0.004849638233219267,
          0.00506271998849428,
          0.0016183166535335136,
          0.0002454087218528578,
          0.003229370597167547,
          0.005266874082221262,
          0.003689902381599941,
          0.002077360457471311,
          0.005861200030654157
         ],
         "yaxis": "y"
        }
       ],
       "layout": {
        "template": {
         "data": {
          "bar": [
           {
            "error_x": {
             "color": "#2a3f5f"
            },
            "error_y": {
             "color": "#2a3f5f"
            },
            "marker": {
             "line": {
              "color": "#E5ECF6",
              "width": 0.5
             }
            },
            "type": "bar"
           }
          ],
          "barpolar": [
           {
            "marker": {
             "line": {
              "color": "#E5ECF6",
              "width": 0.5
             }
            },
            "type": "barpolar"
           }
          ],
          "carpet": [
           {
            "aaxis": {
             "endlinecolor": "#2a3f5f",
             "gridcolor": "white",
             "linecolor": "white",
             "minorgridcolor": "white",
             "startlinecolor": "#2a3f5f"
            },
            "baxis": {
             "endlinecolor": "#2a3f5f",
             "gridcolor": "white",
             "linecolor": "white",
             "minorgridcolor": "white",
             "startlinecolor": "#2a3f5f"
            },
            "type": "carpet"
           }
          ],
          "choropleth": [
           {
            "colorbar": {
             "outlinewidth": 0,
             "ticks": ""
            },
            "type": "choropleth"
           }
          ],
          "contour": [
           {
            "colorbar": {
             "outlinewidth": 0,
             "ticks": ""
            },
            "colorscale": [
             [
              0,
              "#0d0887"
             ],
             [
              0.1111111111111111,
              "#46039f"
             ],
             [
              0.2222222222222222,
              "#7201a8"
             ],
             [
              0.3333333333333333,
              "#9c179e"
             ],
             [
              0.4444444444444444,
              "#bd3786"
             ],
             [
              0.5555555555555556,
              "#d8576b"
             ],
             [
              0.6666666666666666,
              "#ed7953"
             ],
             [
              0.7777777777777778,
              "#fb9f3a"
             ],
             [
              0.8888888888888888,
              "#fdca26"
             ],
             [
              1,
              "#f0f921"
             ]
            ],
            "type": "contour"
           }
          ],
          "contourcarpet": [
           {
            "colorbar": {
             "outlinewidth": 0,
             "ticks": ""
            },
            "type": "contourcarpet"
           }
          ],
          "heatmap": [
           {
            "colorbar": {
             "outlinewidth": 0,
             "ticks": ""
            },
            "colorscale": [
             [
              0,
              "#0d0887"
             ],
             [
              0.1111111111111111,
              "#46039f"
             ],
             [
              0.2222222222222222,
              "#7201a8"
             ],
             [
              0.3333333333333333,
              "#9c179e"
             ],
             [
              0.4444444444444444,
              "#bd3786"
             ],
             [
              0.5555555555555556,
              "#d8576b"
             ],
             [
              0.6666666666666666,
              "#ed7953"
             ],
             [
              0.7777777777777778,
              "#fb9f3a"
             ],
             [
              0.8888888888888888,
              "#fdca26"
             ],
             [
              1,
              "#f0f921"
             ]
            ],
            "type": "heatmap"
           }
          ],
          "heatmapgl": [
           {
            "colorbar": {
             "outlinewidth": 0,
             "ticks": ""
            },
            "colorscale": [
             [
              0,
              "#0d0887"
             ],
             [
              0.1111111111111111,
              "#46039f"
             ],
             [
              0.2222222222222222,
              "#7201a8"
             ],
             [
              0.3333333333333333,
              "#9c179e"
             ],
             [
              0.4444444444444444,
              "#bd3786"
             ],
             [
              0.5555555555555556,
              "#d8576b"
             ],
             [
              0.6666666666666666,
              "#ed7953"
             ],
             [
              0.7777777777777778,
              "#fb9f3a"
             ],
             [
              0.8888888888888888,
              "#fdca26"
             ],
             [
              1,
              "#f0f921"
             ]
            ],
            "type": "heatmapgl"
           }
          ],
          "histogram": [
           {
            "marker": {
             "colorbar": {
              "outlinewidth": 0,
              "ticks": ""
             }
            },
            "type": "histogram"
           }
          ],
          "histogram2d": [
           {
            "colorbar": {
             "outlinewidth": 0,
             "ticks": ""
            },
            "colorscale": [
             [
              0,
              "#0d0887"
             ],
             [
              0.1111111111111111,
              "#46039f"
             ],
             [
              0.2222222222222222,
              "#7201a8"
             ],
             [
              0.3333333333333333,
              "#9c179e"
             ],
             [
              0.4444444444444444,
              "#bd3786"
             ],
             [
              0.5555555555555556,
              "#d8576b"
             ],
             [
              0.6666666666666666,
              "#ed7953"
             ],
             [
              0.7777777777777778,
              "#fb9f3a"
             ],
             [
              0.8888888888888888,
              "#fdca26"
             ],
             [
              1,
              "#f0f921"
             ]
            ],
            "type": "histogram2d"
           }
          ],
          "histogram2dcontour": [
           {
            "colorbar": {
             "outlinewidth": 0,
             "ticks": ""
            },
            "colorscale": [
             [
              0,
              "#0d0887"
             ],
             [
              0.1111111111111111,
              "#46039f"
             ],
             [
              0.2222222222222222,
              "#7201a8"
             ],
             [
              0.3333333333333333,
              "#9c179e"
             ],
             [
              0.4444444444444444,
              "#bd3786"
             ],
             [
              0.5555555555555556,
              "#d8576b"
             ],
             [
              0.6666666666666666,
              "#ed7953"
             ],
             [
              0.7777777777777778,
              "#fb9f3a"
             ],
             [
              0.8888888888888888,
              "#fdca26"
             ],
             [
              1,
              "#f0f921"
             ]
            ],
            "type": "histogram2dcontour"
           }
          ],
          "mesh3d": [
           {
            "colorbar": {
             "outlinewidth": 0,
             "ticks": ""
            },
            "type": "mesh3d"
           }
          ],
          "parcoords": [
           {
            "line": {
             "colorbar": {
              "outlinewidth": 0,
              "ticks": ""
             }
            },
            "type": "parcoords"
           }
          ],
          "pie": [
           {
            "automargin": true,
            "type": "pie"
           }
          ],
          "scatter": [
           {
            "marker": {
             "colorbar": {
              "outlinewidth": 0,
              "ticks": ""
             }
            },
            "type": "scatter"
           }
          ],
          "scatter3d": [
           {
            "line": {
             "colorbar": {
              "outlinewidth": 0,
              "ticks": ""
             }
            },
            "marker": {
             "colorbar": {
              "outlinewidth": 0,
              "ticks": ""
             }
            },
            "type": "scatter3d"
           }
          ],
          "scattercarpet": [
           {
            "marker": {
             "colorbar": {
              "outlinewidth": 0,
              "ticks": ""
             }
            },
            "type": "scattercarpet"
           }
          ],
          "scattergeo": [
           {
            "marker": {
             "colorbar": {
              "outlinewidth": 0,
              "ticks": ""
             }
            },
            "type": "scattergeo"
           }
          ],
          "scattergl": [
           {
            "marker": {
             "colorbar": {
              "outlinewidth": 0,
              "ticks": ""
             }
            },
            "type": "scattergl"
           }
          ],
          "scattermapbox": [
           {
            "marker": {
             "colorbar": {
              "outlinewidth": 0,
              "ticks": ""
             }
            },
            "type": "scattermapbox"
           }
          ],
          "scatterpolar": [
           {
            "marker": {
             "colorbar": {
              "outlinewidth": 0,
              "ticks": ""
             }
            },
            "type": "scatterpolar"
           }
          ],
          "scatterpolargl": [
           {
            "marker": {
             "colorbar": {
              "outlinewidth": 0,
              "ticks": ""
             }
            },
            "type": "scatterpolargl"
           }
          ],
          "scatterternary": [
           {
            "marker": {
             "colorbar": {
              "outlinewidth": 0,
              "ticks": ""
             }
            },
            "type": "scatterternary"
           }
          ],
          "surface": [
           {
            "colorbar": {
             "outlinewidth": 0,
             "ticks": ""
            },
            "colorscale": [
             [
              0,
              "#0d0887"
             ],
             [
              0.1111111111111111,
              "#46039f"
             ],
             [
              0.2222222222222222,
              "#7201a8"
             ],
             [
              0.3333333333333333,
              "#9c179e"
             ],
             [
              0.4444444444444444,
              "#bd3786"
             ],
             [
              0.5555555555555556,
              "#d8576b"
             ],
             [
              0.6666666666666666,
              "#ed7953"
             ],
             [
              0.7777777777777778,
              "#fb9f3a"
             ],
             [
              0.8888888888888888,
              "#fdca26"
             ],
             [
              1,
              "#f0f921"
             ]
            ],
            "type": "surface"
           }
          ],
          "table": [
           {
            "cells": {
             "fill": {
              "color": "#EBF0F8"
             },
             "line": {
              "color": "white"
             }
            },
            "header": {
             "fill": {
              "color": "#C8D4E3"
             },
             "line": {
              "color": "white"
             }
            },
            "type": "table"
           }
          ]
         },
         "layout": {
          "annotationdefaults": {
           "arrowcolor": "#2a3f5f",
           "arrowhead": 0,
           "arrowwidth": 1
          },
          "coloraxis": {
           "colorbar": {
            "outlinewidth": 0,
            "ticks": ""
           }
          },
          "colorscale": {
           "diverging": [
            [
             0,
             "#8e0152"
            ],
            [
             0.1,
             "#c51b7d"
            ],
            [
             0.2,
             "#de77ae"
            ],
            [
             0.3,
             "#f1b6da"
            ],
            [
             0.4,
             "#fde0ef"
            ],
            [
             0.5,
             "#f7f7f7"
            ],
            [
             0.6,
             "#e6f5d0"
            ],
            [
             0.7,
             "#b8e186"
            ],
            [
             0.8,
             "#7fbc41"
            ],
            [
             0.9,
             "#4d9221"
            ],
            [
             1,
             "#276419"
            ]
           ],
           "sequential": [
            [
             0,
             "#0d0887"
            ],
            [
             0.1111111111111111,
             "#46039f"
            ],
            [
             0.2222222222222222,
             "#7201a8"
            ],
            [
             0.3333333333333333,
             "#9c179e"
            ],
            [
             0.4444444444444444,
             "#bd3786"
            ],
            [
             0.5555555555555556,
             "#d8576b"
            ],
            [
             0.6666666666666666,
             "#ed7953"
            ],
            [
             0.7777777777777778,
             "#fb9f3a"
            ],
            [
             0.8888888888888888,
             "#fdca26"
            ],
            [
             1,
             "#f0f921"
            ]
           ],
           "sequentialminus": [
            [
             0,
             "#0d0887"
            ],
            [
             0.1111111111111111,
             "#46039f"
            ],
            [
             0.2222222222222222,
             "#7201a8"
            ],
            [
             0.3333333333333333,
             "#9c179e"
            ],
            [
             0.4444444444444444,
             "#bd3786"
            ],
            [
             0.5555555555555556,
             "#d8576b"
            ],
            [
             0.6666666666666666,
             "#ed7953"
            ],
            [
             0.7777777777777778,
             "#fb9f3a"
            ],
            [
             0.8888888888888888,
             "#fdca26"
            ],
            [
             1,
             "#f0f921"
            ]
           ]
          },
          "colorway": [
           "#636efa",
           "#EF553B",
           "#00cc96",
           "#ab63fa",
           "#FFA15A",
           "#19d3f3",
           "#FF6692",
           "#B6E880",
           "#FF97FF",
           "#FECB52"
          ],
          "font": {
           "color": "#2a3f5f"
          },
          "geo": {
           "bgcolor": "white",
           "lakecolor": "white",
           "landcolor": "#E5ECF6",
           "showlakes": true,
           "showland": true,
           "subunitcolor": "white"
          },
          "hoverlabel": {
           "align": "left"
          },
          "hovermode": "closest",
          "mapbox": {
           "style": "light"
          },
          "paper_bgcolor": "white",
          "plot_bgcolor": "#E5ECF6",
          "polar": {
           "angularaxis": {
            "gridcolor": "white",
            "linecolor": "white",
            "ticks": ""
           },
           "bgcolor": "#E5ECF6",
           "radialaxis": {
            "gridcolor": "white",
            "linecolor": "white",
            "ticks": ""
           }
          },
          "scene": {
           "xaxis": {
            "backgroundcolor": "#E5ECF6",
            "gridcolor": "white",
            "gridwidth": 2,
            "linecolor": "white",
            "showbackground": true,
            "ticks": "",
            "zerolinecolor": "white"
           },
           "yaxis": {
            "backgroundcolor": "#E5ECF6",
            "gridcolor": "white",
            "gridwidth": 2,
            "linecolor": "white",
            "showbackground": true,
            "ticks": "",
            "zerolinecolor": "white"
           },
           "zaxis": {
            "backgroundcolor": "#E5ECF6",
            "gridcolor": "white",
            "gridwidth": 2,
            "linecolor": "white",
            "showbackground": true,
            "ticks": "",
            "zerolinecolor": "white"
           }
          },
          "shapedefaults": {
           "line": {
            "color": "#2a3f5f"
           }
          },
          "ternary": {
           "aaxis": {
            "gridcolor": "white",
            "linecolor": "white",
            "ticks": ""
           },
           "baxis": {
            "gridcolor": "white",
            "linecolor": "white",
            "ticks": ""
           },
           "bgcolor": "#E5ECF6",
           "caxis": {
            "gridcolor": "white",
            "linecolor": "white",
            "ticks": ""
           }
          },
          "title": {
           "x": 0.05
          },
          "xaxis": {
           "automargin": true,
           "gridcolor": "white",
           "linecolor": "white",
           "ticks": "",
           "title": {
            "standoff": 15
           },
           "zerolinecolor": "white",
           "zerolinewidth": 2
          },
          "yaxis": {
           "automargin": true,
           "gridcolor": "white",
           "linecolor": "white",
           "ticks": "",
           "title": {
            "standoff": 15
           },
           "zerolinecolor": "white",
           "zerolinewidth": 2
          }
         }
        },
        "title": {
         "text": "           Errors (abs(Original − Predicted))     "
        },
        "xaxis": {
         "anchor": "y",
         "domain": [
          0,
          0.94
         ],
         "title": {
          "text": "Closing day"
         }
        },
        "yaxis": {
         "anchor": "x",
         "domain": [
          0,
          1
         ],
         "title": {
          "text": "Difference"
         }
        },
        "yaxis2": {
         "anchor": "x",
         "overlaying": "y",
         "side": "right",
         "title": {
          "text": "Difference"
         }
        }
       }
      },
      "text/html": [
       "<div>                            <div id=\"9fca7115-80d7-4018-bcc8-5c7cf46f52fd\" class=\"plotly-graph-div\" style=\"height:525px; width:100%;\"></div>            <script type=\"text/javascript\">                require([\"plotly\"], function(Plotly) {                    window.PLOTLYENV=window.PLOTLYENV || {};                                    if (document.getElementById(\"9fca7115-80d7-4018-bcc8-5c7cf46f52fd\")) {                    Plotly.newPlot(                        \"9fca7115-80d7-4018-bcc8-5c7cf46f52fd\",                        [{\"name\": \"CHF/USD\", \"type\": \"scatter\", \"x\": [1, 2, 3, 4, 5, 6, 7, 8, 9, 10, 11, 12, 13, 14, 15, 16, 17, 18, 19, 20, 21, 22, 23, 24, 25, 26, 27, 28, 29, 30, 31, 32, 33, 34, 35, 36, 37, 38, 39, 40, 41, 42, 43, 44, 45, 46, 47, 48, 49, 50, 51, 52, 53, 54, 55, 56, 57, 58, 59, 60, 61, 62, 63, 64, 65, 66, 67, 68, 69, 70, 71, 72, 73, 74, 75, 76, 77, 78, 79, 80, 81, 82, 83, 84, 85, 86, 87, 88, 89, 90, 91, 92, 93, 94, 95, 96, 97, 98, 99, 100, 101, 102, 103, 104, 105, 106, 107, 108, 109, 110, 111, 112, 113, 114, 115, 116, 117, 118, 119, 120, 121, 122, 123, 124, 125, 126, 127, 128, 129, 130, 131, 132, 133, 134, 135, 136, 137, 138, 139, 140, 141, 142, 143, 144, 145, 146, 147, 148, 149, 150, 151, 152, 153, 154, 155, 156, 157, 158, 159, 160, 161, 162, 163, 164, 165, 166, 167, 168, 169, 170, 171, 172, 173, 174, 175, 176, 177, 178, 179, 180, 181, 182, 183, 184, 185, 186, 187, 188, 189, 190, 191, 192, 193, 194, 195, 196, 197, 198, 199, 200, 201, 202, 203, 204, 205, 206, 207, 208, 209, 210, 211, 212, 213, 214, 215, 216, 217, 218, 219, 220, 221, 222, 223, 224, 225, 226, 227, 228, 229, 230, 231, 232, 233, 234, 235, 236, 237, 238, 239, 240, 241, 242, 243, 244, 245, 246, 247, 248, 249, 250, 251, 252, 253, 254, 255, 256, 257, 258, 259, 260, 261, 262, 263, 264, 265, 266, 267, 268, 269, 270, 271, 272, 273, 274, 275, 276, 277, 278, 279, 280, 281, 282, 283, 284, 285, 286, 287, 288, 289, 290, 291, 292, 293, 294, 295, 296, 297, 298, 299, 300, 301, 302, 303, 304, 305, 306, 307, 308, 309, 310, 311, 312, 313, 314, 315, 316, 317, 318, 319, 320, 321, 322, 323, 324, 325, 326, 327, 328, 329, 330, 331, 332, 333, 334, 335, 336, 337, 338, 339, 340, 341, 342, 343, 344, 345, 346, 347, 348, 349, 350, 351, 352, 353, 354, 355, 356, 357, 358, 359, 360, 361, 362, 363, 364, 365, 366, 367, 368, 369, 370, 371, 372, 373, 374, 375, 376, 377, 378, 379, 380, 381, 382, 383, 384, 385, 386, 387, 388, 389, 390, 391, 392, 393, 394, 395, 396, 397, 398, 399, 400, 401, 402, 403, 404, 405, 406, 407, 408, 409, 410, 411, 412, 413, 414, 415, 416, 417, 418, 419, 420, 421, 422, 423, 424, 425, 426, 427, 428, 429, 430, 431, 432, 433, 434, 435, 436, 437, 438, 439, 440, 441, 442, 443, 444, 445, 446, 447, 448, 449, 450, 451, 452, 453, 454, 455, 456, 457, 458, 459, 460, 461, 462, 463, 464, 465, 466, 467, 468, 469, 470, 471, 472, 473, 474, 475, 476, 477, 478, 479, 480, 481, 482, 483, 484, 485, 486, 487, 488, 489, 490, 491, 492, 493, 494, 495, 496, 497, 498, 499], \"xaxis\": \"x\", \"y\": [0.019016149624012657, 0.01293159041167602, 0.0030099210016307776, 0.009552274770262548, 0.016552729368066954, 0.01161739936912043, 0.016260008221975486, 0.011919957752924981, 0.009636877324496806, 0.014955437690501672, 0.010564150454542398, 0.013437774747056652, 0.015766956464768667, 0.023908257113023135, 0.013712167968430222, 0.02087724538817959, 0.015778027979323372, 0.015163967779398435, 0.027532466212170537, 0.016429200180995363, 0.017537225764121978, 0.001683988829727534, 0.0008271931030563451, 0.0046682729129665645, 0.001585458009238927, 0.013187361906358941, 0.0011655513221735525, 0.002968535893259183, 0.003195762120013157, 0.012077452109344522, 0.006511106692508983, 0.00976168757930651, 0.007974478682763353, 0.0039038934701927097, 0.017563389996128054, 2.8936530102274816e-05, 0.0037137356970107227, 0.007097152709389487, 0.013968422949992565, 0.01108794933025381, 0.008496222301755285, 0.008481788499545173, 0.004452148006660828, 0.008486638167720217, 0.009539123235740465, 0.009498297725343718, 0.00978425758337842, 0.005433824913740004, 0.0007505246877241856, 0.008027939442176946, 0.004519881175048868, 0.008108425961774968, 0.01207685709142492, 0.001752665951410437, 0.004175404333796706, 0.00017223778136687962, 0.000824124474522625, 0.0007744510063800725, 0.0015240517399710551, 0.004797798770141082, 0.010757631159885817, 0.007816977940896974, 0.0105780912916984, 0.013592164619301794, 0.008290589441433127, 0.013329175177128949, 0.011544719708044271, 0.011502156184775236, 0.012918891043917302, 0.012482335011783308, 0.010643062825828498, 0.0036602824729956573, 0.005372324605556589, 0.004533498961458493, 0.00946987801643795, 0.009694815867671513, 0.00519887338933156, 0.001258225102421795, 0.0029403482746264142, 0.003969421359577119, 0.00319278598760242, 0.0049080783767998515, 0.008803910113438063, 0.014647415328554292, 0.01598272170043402, 0.012792332962360708, 0.007266925522636747, 0.0027123069748897777, 0.001243139920368952, 0.004183941547423631, 0.0028198166690664994, 0.007035243132644364, 0.004105863134042265, 0.002870286518117604, 0.0018364338763394716, 0.0035644373399472684, 0.0103133756218734, 0.008464352437448364, 0.005642832082642268, 0.005294817982497202, 0.010173499741334524, 0.0050277696175802244, 0.004118797249105688, 0.012193368194058918, 0.004987957386144881, 0.008722472655123381, 0.000895174482470118, 0.007569313806427669, 0.011601527134339262, 0.007634404307000242, 0.010335670323197599, 0.014028257563701185, 0.0024464686235456945, 0.006457297876254042, 0.006888320154597949, 0.008111789856505514, 0.009771151996930127, 0.0034812495764176, 0.012926488932626157, 0.006010008736810901, 0.007908145548555678, 0.012630147788251556, 0.010147754634619588, 0.009836995073104982, 0.00412675183000788, 0.005091011945611346, 0.0008785561575297418, 0.0035279318913503666, 0.00435181939723317, 0.004451035767561562, 0.003633992889100268, 0.002704220463802365, 0.002991196843519228, 0.006482063009754846, 0.0022682050518678665, 0.009871822277752518, 0.0010597376997705243, 0.0017934626915843133, 0.0038624562925746453, 0.002109760620981227, 0.006164571694659449, 0.005728398053642003, 0.0028701575663792056, 0.0059404924717259, 0.002888211966846743, 0.011904414954337028, 0.0007732744628330401, 0.0023095793106944207, 0.012914056589390599, 0.005324210507773985, 0.010116826830830039, 0.00468505231687022, 0.0009034813128951935, 0.006447838929829475, 0.0037691808304007868, 0.0009384122774800385, 0.005970560804393399, 0.0006291348824176701, 0.0025502442456490915, 0.003643373874506528, 0.016551549581798497, 0.007600552875742794, 0.018191035276690748, 0.0032343585952587794, 0.006671831813524154, 0.006661218515479517, 0.0025097519355736786, 0.004293834491716053, 0.010038901703881997, 0.0008185474296897866, 0.007227195959165655, 0.0030990051608945635, 0.001648004130734293, 0.0022910320951667895, 0.0004338996077528634, 0.011895928560009095, 0.0037428534266616964, 0.00041190225110931955, 0.0012085090217797134, 0.005593164685673724, 0.0030330050627296323, 0.004475981679199936, 0.003996713880009661, 0.008305623397061535, 0.0005803482199659982, 0.00020712716198012515, 0.006038469451140838, 0.008360986462462083, 0.0018245665737079975, 0.005207474043156468, 0.0022085724011233765, 0.0032424476705246175, 0.009545905108648833, 0.0012648054409201137, 0.0005847847554552033, 0.004798332647765857, 0.005340033837461844, 0.006328006694958255, 0.002508673509342696, 0.006252727564256988, 0.010165494362560867, 0.00765051061768518, 0.0007297104529238041, 0.008926961506248832, 0.00488963722111313, 0.006395617654182173, 0.004678496477345195, 0.010212790816040096, 0.008081815034204798, 0.0075605128109992314, 0.008758835159710765, 0.006695026469987875, 0.007754791247194914, 0.0016141678916972158, 0.005807223828557584, 0.011505129003038794, 0.0037230231006251113, 0.001407876908957606, 0.008673130180251398, 0.0026333390987869354, 0.002972704118565428, 0.008164938414718215, 0.0064922642822105026, 0.006419202137164737, 0.016860015139456896, 0.014068771208596953, 0.011408583206499179, 0.017564519148804303, 0.01710974091609274, 0.01334893419186911, 0.017333283097248353, 0.021781930493479873, 0.018088490167301297, 0.013664168808687371, 0.01586526074475203, 0.014732866940061262, 0.022359416669110788, 0.009445683380456149, 0.01650834900665732, 0.009526346485510429, 0.017760114094109714, 0.011834891846681295, 0.02411611960132798, 0.01947376538780099, 0.012853161113000722, 0.01486324339015832, 0.02524617293982412, 0.030213833755186936, 0.01865227922413304, 0.022846596336707714, 0.023910135162883872, 0.02026966073828751, 0.020625767920672944, 0.02248001248626541, 0.022261251826140693, 0.02302914213605667, 0.022689357148165445, 0.016105015724986682, 0.01518055042012012, 0.024409171212141034, 0.02474783258998081, 0.01448555599078949, 0.006658164572044489, 0.02472161782437854, 0.014659758339819806, 0.0189553590289413, 0.01449352312116603, 0.013086431065028714, 0.013023096690855107, 0.01830361767969424, 0.00316428606777297, 0.01803014482689025, 0.012404362565389793, 0.008085326237047274, 0.004862302252459205, 0.014308166689612767, 0.009134854900401335, 0.010741665300457282, 0.010321306446628542, 0.0048841850996161895, 0.0011395782892973383, 0.010156220201249067, 0.006974205147941559, 0.006957879282172508, 0.005189396322237805, 0.014407507140455245, 0.005815525094929885, 0.016686309183908232, 0.012127576615726054, 0.015314934395115332, 0.013572586704114764, 0.012235439330821496, 0.0030147196576582047, 0.016016145128201043, 0.011733432191799675, 0.01988202416303997, 0.015570591266030887, 0.010124782925954978, 0.01479593138983315, 0.015368366455731808, 0.010786406096760848, 0.016656720852551876, 0.01953415924235702, 0.009547205975557027, 0.019083165736738517, 0.017413539383638543, 0.017782576502690883, 0.01386909751994958, 0.014461271801417874, 0.010746284228302594, 0.01710974091609274, 0.003283026462689742, 0.0059464242374061005, 0.011626829116768711, 0.009904076068825596, 0.004152128795009036, 0.004506169371150781, 0.00903191887882393, 0.0050731556511269815, 0.00038926282851825533, 0.012171768685027118, 0.012094279911219585, 0.014473086934806867, 0.013298254023061062, 0.010188958772004542, 0.01160375571236627, 0.014852869710642258, 0.012664127549845139, 0.017457416944692383, 0.013945820911549278, 0.01293159041167602, 0.008613805780873562, 0.015461577106336444, 0.012355271565692716, 0.011806607139260628, 0.002660929713869109, 0.011461908871574611, 0.010054041355080479, 0.006428941257561549, 0.008480446627213034, 0.006038713919466643, 0.00712645069577178, 0.008502904428844271, 0.009150387549414774, 0.009647666965150847, 0.0030736524305921, 0.010486708400205158, 0.0022019767061258744, 0.005018599044783745, 0.019001586798638614, 0.01993973153733153, 0.015595877384839474, 0.013063218559313139, 0.005510202005568177, 0.005765491434740699, 0.003906333010806673, 0.004586391773246712, 0.0017768845649592802, 0.008347599244960424, 0.0011632478330003693, 0.0012033656016305905, 0.00435181939723317, 0.0025337200096227086, 0.0005190371609933297, 0.002707734573666132, 0.003865161222065927, 0.010212158485398914, 0.0002666704950395893, 0.014940003515932387, 0.0037625624077843867, 0.010385103065714718, 0.004050831561891233, 0.003459742377802888, 0.0021843053681755986, 0.005061008010244894, 0.004412926707602072, 0.0015369530706936807, 0.002005580844387733, 0.0029786054069513845, 0.0001471022133918698, 0.001446210638072598, 0.004703430868037817, 0.0033202280606816625, 0.00576227988362521, 0.0005551533044776402, 0.01786740067620829, 0.009840268021646947, 0.013994416810567678, 0.00804827333282332, 0.0030558047714599468, 0.004473028681533986, 0.008083441273190495, 0.011301060791426787, 0.004230477825619694, 0.004710287873512131, 0.008514523156179177, 0.004975278510384484, 0.0037943301477998403, 0.010021468877363882, 0.008236194228325777, 0.01777981335421086, 0.010797271655661467, 0.017113019264408447, 0.02104957992977674, 0.01559852578098564, 0.00838411160041086, 0.015270806894536637, 0.004395152409681025, 0.0013992562631135463, 0.006689739170154363, 0.007001848046546799, 0.0005927266940304321, 0.006358085777175226, 0.00107552004546152, 0.0020768562143187452, 0.0007836490780239735, 0.01519456180431944, 0.008498898796723608, 0.008481503718623662, 0.00507904115446034, 0.0020247174352139297, 0.01120657120870927, 0.009664658053039732, 0.004812248193124757, 0.010218594587084961, 2.5080655990938894e-05, 0.008343238963417932, 0.0060711426103521315, 0.017406957866618278, 0.012638182201522463, 0.01126942694580002, 0.0008651552620300151, 0.013580278531743373, 0.0018304277209195696, 0.014557583186353362, 0.013982386150497073, 0.010071104597088265, 0.01846715976836233, 0.022307256890885974, 0.0019256472444735273, 0.005743571703415551, 0.003706558804943194, 0.008088690153205347, 0.01161700178578351, 0.006897558274563398, 0.006739223574791842, 0.0017528409297915548, 0.002760776729195058, 0.005327306278027688, 0.00776874463382482, 0.0024970873163587815, 0.00029074129335460164, 0.0052601877767357585, 0.006260262941299777, 0.0036399845237000683, 0.0027353261458507028, 0.00013991524317513715, 0.0027261676939753787, 3.575382295517571e-05, 0.002340094660341352, 0.004726254240062344, 0.0032654440495836212, 0.0003645399575324948, 0.0022850362821706938, 0.00024077791593390963, 0.0026752595204375673, 0.00425218630151325, 0.004679201412086664, 0.009403224909926955, 0.004095619584786991, 0.011009935992717157, 0.004626828728499399, 0.015565950310537424, 0.009455460942098703, 0.005500997191349777, 0.011922437584707346, 0.0161660660948848, 0.007162125779169859, 0.011850407674971253, 0.006963813783452677, 0.012361388816456431, 0.01060570129882521, 0.0032207735146214667, 0.00994388676461111, 0.00919944003643991, 0.0004373432634261487, 0.0043301247493316986, 0.012214783682231722, 0.0011216278130454782, 0.011393535601442961, 0.004849638233219267, 0.00506271998849428, 0.0016183166535335136, 0.0002454087218528578, 0.003229370597167547, 0.005266874082221262, 0.003689902381599941, 0.002077360457471311, 0.005861200030654157], \"yaxis\": \"y\"}],                        {\"template\": {\"data\": {\"bar\": [{\"error_x\": {\"color\": \"#2a3f5f\"}, \"error_y\": {\"color\": \"#2a3f5f\"}, \"marker\": {\"line\": {\"color\": \"#E5ECF6\", \"width\": 0.5}}, \"type\": \"bar\"}], \"barpolar\": [{\"marker\": {\"line\": {\"color\": \"#E5ECF6\", \"width\": 0.5}}, \"type\": \"barpolar\"}], \"carpet\": [{\"aaxis\": {\"endlinecolor\": \"#2a3f5f\", \"gridcolor\": \"white\", \"linecolor\": \"white\", \"minorgridcolor\": \"white\", \"startlinecolor\": \"#2a3f5f\"}, \"baxis\": {\"endlinecolor\": \"#2a3f5f\", \"gridcolor\": \"white\", \"linecolor\": \"white\", \"minorgridcolor\": \"white\", \"startlinecolor\": \"#2a3f5f\"}, \"type\": \"carpet\"}], \"choropleth\": [{\"colorbar\": {\"outlinewidth\": 0, \"ticks\": \"\"}, \"type\": \"choropleth\"}], \"contour\": [{\"colorbar\": {\"outlinewidth\": 0, \"ticks\": \"\"}, \"colorscale\": [[0.0, \"#0d0887\"], [0.1111111111111111, \"#46039f\"], [0.2222222222222222, \"#7201a8\"], [0.3333333333333333, \"#9c179e\"], [0.4444444444444444, \"#bd3786\"], [0.5555555555555556, \"#d8576b\"], [0.6666666666666666, \"#ed7953\"], [0.7777777777777778, \"#fb9f3a\"], [0.8888888888888888, \"#fdca26\"], [1.0, \"#f0f921\"]], \"type\": \"contour\"}], \"contourcarpet\": [{\"colorbar\": {\"outlinewidth\": 0, \"ticks\": \"\"}, \"type\": \"contourcarpet\"}], \"heatmap\": [{\"colorbar\": {\"outlinewidth\": 0, \"ticks\": \"\"}, \"colorscale\": [[0.0, \"#0d0887\"], [0.1111111111111111, \"#46039f\"], [0.2222222222222222, \"#7201a8\"], [0.3333333333333333, \"#9c179e\"], [0.4444444444444444, \"#bd3786\"], [0.5555555555555556, \"#d8576b\"], [0.6666666666666666, \"#ed7953\"], [0.7777777777777778, \"#fb9f3a\"], [0.8888888888888888, \"#fdca26\"], [1.0, \"#f0f921\"]], \"type\": \"heatmap\"}], \"heatmapgl\": [{\"colorbar\": {\"outlinewidth\": 0, \"ticks\": \"\"}, \"colorscale\": [[0.0, \"#0d0887\"], [0.1111111111111111, \"#46039f\"], [0.2222222222222222, \"#7201a8\"], [0.3333333333333333, \"#9c179e\"], [0.4444444444444444, \"#bd3786\"], [0.5555555555555556, \"#d8576b\"], [0.6666666666666666, \"#ed7953\"], [0.7777777777777778, \"#fb9f3a\"], [0.8888888888888888, \"#fdca26\"], [1.0, \"#f0f921\"]], \"type\": \"heatmapgl\"}], \"histogram\": [{\"marker\": {\"colorbar\": {\"outlinewidth\": 0, \"ticks\": \"\"}}, \"type\": \"histogram\"}], \"histogram2d\": [{\"colorbar\": {\"outlinewidth\": 0, \"ticks\": \"\"}, \"colorscale\": [[0.0, \"#0d0887\"], [0.1111111111111111, \"#46039f\"], [0.2222222222222222, \"#7201a8\"], [0.3333333333333333, \"#9c179e\"], [0.4444444444444444, \"#bd3786\"], [0.5555555555555556, \"#d8576b\"], [0.6666666666666666, \"#ed7953\"], [0.7777777777777778, \"#fb9f3a\"], [0.8888888888888888, \"#fdca26\"], [1.0, \"#f0f921\"]], \"type\": \"histogram2d\"}], \"histogram2dcontour\": [{\"colorbar\": {\"outlinewidth\": 0, \"ticks\": \"\"}, \"colorscale\": [[0.0, \"#0d0887\"], [0.1111111111111111, \"#46039f\"], [0.2222222222222222, \"#7201a8\"], [0.3333333333333333, \"#9c179e\"], [0.4444444444444444, \"#bd3786\"], [0.5555555555555556, \"#d8576b\"], [0.6666666666666666, \"#ed7953\"], [0.7777777777777778, \"#fb9f3a\"], [0.8888888888888888, \"#fdca26\"], [1.0, \"#f0f921\"]], \"type\": \"histogram2dcontour\"}], \"mesh3d\": [{\"colorbar\": {\"outlinewidth\": 0, \"ticks\": \"\"}, \"type\": \"mesh3d\"}], \"parcoords\": [{\"line\": {\"colorbar\": {\"outlinewidth\": 0, \"ticks\": \"\"}}, \"type\": \"parcoords\"}], \"pie\": [{\"automargin\": true, \"type\": \"pie\"}], \"scatter\": [{\"marker\": {\"colorbar\": {\"outlinewidth\": 0, \"ticks\": \"\"}}, \"type\": \"scatter\"}], \"scatter3d\": [{\"line\": {\"colorbar\": {\"outlinewidth\": 0, \"ticks\": \"\"}}, \"marker\": {\"colorbar\": {\"outlinewidth\": 0, \"ticks\": \"\"}}, \"type\": \"scatter3d\"}], \"scattercarpet\": [{\"marker\": {\"colorbar\": {\"outlinewidth\": 0, \"ticks\": \"\"}}, \"type\": \"scattercarpet\"}], \"scattergeo\": [{\"marker\": {\"colorbar\": {\"outlinewidth\": 0, \"ticks\": \"\"}}, \"type\": \"scattergeo\"}], \"scattergl\": [{\"marker\": {\"colorbar\": {\"outlinewidth\": 0, \"ticks\": \"\"}}, \"type\": \"scattergl\"}], \"scattermapbox\": [{\"marker\": {\"colorbar\": {\"outlinewidth\": 0, \"ticks\": \"\"}}, \"type\": \"scattermapbox\"}], \"scatterpolar\": [{\"marker\": {\"colorbar\": {\"outlinewidth\": 0, \"ticks\": \"\"}}, \"type\": \"scatterpolar\"}], \"scatterpolargl\": [{\"marker\": {\"colorbar\": {\"outlinewidth\": 0, \"ticks\": \"\"}}, \"type\": \"scatterpolargl\"}], \"scatterternary\": [{\"marker\": {\"colorbar\": {\"outlinewidth\": 0, \"ticks\": \"\"}}, \"type\": \"scatterternary\"}], \"surface\": [{\"colorbar\": {\"outlinewidth\": 0, \"ticks\": \"\"}, \"colorscale\": [[0.0, \"#0d0887\"], [0.1111111111111111, \"#46039f\"], [0.2222222222222222, \"#7201a8\"], [0.3333333333333333, \"#9c179e\"], [0.4444444444444444, \"#bd3786\"], [0.5555555555555556, \"#d8576b\"], [0.6666666666666666, \"#ed7953\"], [0.7777777777777778, \"#fb9f3a\"], [0.8888888888888888, \"#fdca26\"], [1.0, \"#f0f921\"]], \"type\": \"surface\"}], \"table\": [{\"cells\": {\"fill\": {\"color\": \"#EBF0F8\"}, \"line\": {\"color\": \"white\"}}, \"header\": {\"fill\": {\"color\": \"#C8D4E3\"}, \"line\": {\"color\": \"white\"}}, \"type\": \"table\"}]}, \"layout\": {\"annotationdefaults\": {\"arrowcolor\": \"#2a3f5f\", \"arrowhead\": 0, \"arrowwidth\": 1}, \"coloraxis\": {\"colorbar\": {\"outlinewidth\": 0, \"ticks\": \"\"}}, \"colorscale\": {\"diverging\": [[0, \"#8e0152\"], [0.1, \"#c51b7d\"], [0.2, \"#de77ae\"], [0.3, \"#f1b6da\"], [0.4, \"#fde0ef\"], [0.5, \"#f7f7f7\"], [0.6, \"#e6f5d0\"], [0.7, \"#b8e186\"], [0.8, \"#7fbc41\"], [0.9, \"#4d9221\"], [1, \"#276419\"]], \"sequential\": [[0.0, \"#0d0887\"], [0.1111111111111111, \"#46039f\"], [0.2222222222222222, \"#7201a8\"], [0.3333333333333333, \"#9c179e\"], [0.4444444444444444, \"#bd3786\"], [0.5555555555555556, \"#d8576b\"], [0.6666666666666666, \"#ed7953\"], [0.7777777777777778, \"#fb9f3a\"], [0.8888888888888888, \"#fdca26\"], [1.0, \"#f0f921\"]], \"sequentialminus\": [[0.0, \"#0d0887\"], [0.1111111111111111, \"#46039f\"], [0.2222222222222222, \"#7201a8\"], [0.3333333333333333, \"#9c179e\"], [0.4444444444444444, \"#bd3786\"], [0.5555555555555556, \"#d8576b\"], [0.6666666666666666, \"#ed7953\"], [0.7777777777777778, \"#fb9f3a\"], [0.8888888888888888, \"#fdca26\"], [1.0, \"#f0f921\"]]}, \"colorway\": [\"#636efa\", \"#EF553B\", \"#00cc96\", \"#ab63fa\", \"#FFA15A\", \"#19d3f3\", \"#FF6692\", \"#B6E880\", \"#FF97FF\", \"#FECB52\"], \"font\": {\"color\": \"#2a3f5f\"}, \"geo\": {\"bgcolor\": \"white\", \"lakecolor\": \"white\", \"landcolor\": \"#E5ECF6\", \"showlakes\": true, \"showland\": true, \"subunitcolor\": \"white\"}, \"hoverlabel\": {\"align\": \"left\"}, \"hovermode\": \"closest\", \"mapbox\": {\"style\": \"light\"}, \"paper_bgcolor\": \"white\", \"plot_bgcolor\": \"#E5ECF6\", \"polar\": {\"angularaxis\": {\"gridcolor\": \"white\", \"linecolor\": \"white\", \"ticks\": \"\"}, \"bgcolor\": \"#E5ECF6\", \"radialaxis\": {\"gridcolor\": \"white\", \"linecolor\": \"white\", \"ticks\": \"\"}}, \"scene\": {\"xaxis\": {\"backgroundcolor\": \"#E5ECF6\", \"gridcolor\": \"white\", \"gridwidth\": 2, \"linecolor\": \"white\", \"showbackground\": true, \"ticks\": \"\", \"zerolinecolor\": \"white\"}, \"yaxis\": {\"backgroundcolor\": \"#E5ECF6\", \"gridcolor\": \"white\", \"gridwidth\": 2, \"linecolor\": \"white\", \"showbackground\": true, \"ticks\": \"\", \"zerolinecolor\": \"white\"}, \"zaxis\": {\"backgroundcolor\": \"#E5ECF6\", \"gridcolor\": \"white\", \"gridwidth\": 2, \"linecolor\": \"white\", \"showbackground\": true, \"ticks\": \"\", \"zerolinecolor\": \"white\"}}, \"shapedefaults\": {\"line\": {\"color\": \"#2a3f5f\"}}, \"ternary\": {\"aaxis\": {\"gridcolor\": \"white\", \"linecolor\": \"white\", \"ticks\": \"\"}, \"baxis\": {\"gridcolor\": \"white\", \"linecolor\": \"white\", \"ticks\": \"\"}, \"bgcolor\": \"#E5ECF6\", \"caxis\": {\"gridcolor\": \"white\", \"linecolor\": \"white\", \"ticks\": \"\"}}, \"title\": {\"x\": 0.05}, \"xaxis\": {\"automargin\": true, \"gridcolor\": \"white\", \"linecolor\": \"white\", \"ticks\": \"\", \"title\": {\"standoff\": 15}, \"zerolinecolor\": \"white\", \"zerolinewidth\": 2}, \"yaxis\": {\"automargin\": true, \"gridcolor\": \"white\", \"linecolor\": \"white\", \"ticks\": \"\", \"title\": {\"standoff\": 15}, \"zerolinecolor\": \"white\", \"zerolinewidth\": 2}}}, \"title\": {\"text\": \"           Errors (abs(Original \\u2212 Predicted))     \"}, \"xaxis\": {\"anchor\": \"y\", \"domain\": [0.0, 0.94], \"title\": {\"text\": \"Closing day\"}}, \"yaxis\": {\"anchor\": \"x\", \"domain\": [0.0, 1.0], \"title\": {\"text\": \"Difference\"}}, \"yaxis2\": {\"anchor\": \"x\", \"overlaying\": \"y\", \"side\": \"right\", \"title\": {\"text\": \"Difference\"}}},                        {\"responsive\": true}                    ).then(function(){\n",
       "                            \n",
       "var gd = document.getElementById('9fca7115-80d7-4018-bcc8-5c7cf46f52fd');\n",
       "var x = new MutationObserver(function (mutations, observer) {{\n",
       "        var display = window.getComputedStyle(gd).display;\n",
       "        if (!display || display === 'none') {{\n",
       "            console.log([gd, 'removed!']);\n",
       "            Plotly.purge(gd);\n",
       "            observer.disconnect();\n",
       "        }}\n",
       "}});\n",
       "\n",
       "// Listen for the removal of the full notebook cells\n",
       "var notebookContainer = gd.closest('#notebook-container');\n",
       "if (notebookContainer) {{\n",
       "    x.observe(notebookContainer, {childList: true});\n",
       "}}\n",
       "\n",
       "// Listen for the clearing of the current output cell\n",
       "var outputEl = gd.closest('.output');\n",
       "if (outputEl) {{\n",
       "    x.observe(outputEl, {childList: true});\n",
       "}}\n",
       "\n",
       "                        })                };                });            </script>        </div>"
      ]
     },
     "metadata": {},
     "output_type": "display_data"
    }
   ],
   "source": [
    "# import graph_objects from plotly package\n",
    "import plotly.graph_objects as go\n",
    " \n",
    "# import make_subplots function from plotly.subplots\n",
    "# to make grid of plots\n",
    "from plotly.subplots import make_subplots\n",
    " \n",
    "# use specs parameter in make_subplots function\n",
    "# to create secondary y-axis\n",
    "fig = make_subplots(specs=[[{\"secondary_y\": True}]])\n",
    " \n",
    "# plot a scatter chart by specifying the x and y values\n",
    "# Use add_trace function to specify secondary_y axes.\n",
    "fig.add_trace(\n",
    "    go.Scatter(x=list_of_numbers, y=df['Index Value'], name=\"CHF/USD\"),\n",
    "    secondary_y=False)\n",
    " \n",
    "# Use add_trace function and specify secondary_y axes = True.\n",
    "fig.add_trace(\n",
    "    go.Scatter(x=list_of_numbers, y=df2['Index Value'], name=\"ANN\"),\n",
    "   secondary_y=False,)\n",
    "\n",
    "fig.add_trace(\n",
    "    go.Scatter(x=list_of_numbers, y=df3['Index Value'], name=\"LSTM\"),\n",
    "    secondary_y=False,)\n",
    "fig.add_trace(\n",
    "    go.Scatter(x=list_of_numbers, y=df4['Index Value'], name=\"Random walk\"),\n",
    "    secondary_y=False,)\n",
    " \n",
    "# Adding title text to the figure\n",
    "fig.update_layout(\n",
    "    title_text=\"           Errors (abs(Original − Predicted))     \"\n",
    ")\n",
    " \n",
    "# Naming x-axis\n",
    "fig.update_xaxes(title_text=\"Closing day\")\n",
    "fig.update_yaxes(title_text=\"Difference\")\n",
    "\n",
    " \n",
    "# Naming y-axes\n",
    "#fig.update_yaxes(title_text=\"<b>Main</b> Y - axis \", secondary_y=False)f1\n",
    "#fig.update_yaxes(title_text=\"<b>secondary</b> Y - axis \", secondary_y=True)"
   ]
  }
 ],
 "metadata": {
  "kernelspec": {
   "display_name": "Python 3 (ipykernel)",
   "language": "python",
   "name": "python3"
  },
  "language_info": {
   "codemirror_mode": {
    "name": "ipython",
    "version": 3
   },
   "file_extension": ".py",
   "mimetype": "text/x-python",
   "name": "python",
   "nbconvert_exporter": "python",
   "pygments_lexer": "ipython3",
   "version": "3.10.6"
  }
 },
 "nbformat": 4,
 "nbformat_minor": 4
}
